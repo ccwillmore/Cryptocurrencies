{
 "cells": [
  {
   "cell_type": "code",
   "execution_count": 43,
   "id": "4bc11b64",
   "metadata": {},
   "outputs": [],
   "source": [
    "import pandas as pd\n",
    "from sklearn.cluster import KMeans\n",
    "import plotly.express as px\n",
    "import hvplot.pandas"
   ]
  },
  {
   "cell_type": "code",
   "execution_count": 44,
   "id": "f25c8f47",
   "metadata": {},
   "outputs": [
    {
     "data": {
      "text/html": [
       "<div>\n",
       "<style scoped>\n",
       "    .dataframe tbody tr th:only-of-type {\n",
       "        vertical-align: middle;\n",
       "    }\n",
       "\n",
       "    .dataframe tbody tr th {\n",
       "        vertical-align: top;\n",
       "    }\n",
       "\n",
       "    .dataframe thead th {\n",
       "        text-align: right;\n",
       "    }\n",
       "</style>\n",
       "<table border=\"1\" class=\"dataframe\">\n",
       "  <thead>\n",
       "    <tr style=\"text-align: right;\">\n",
       "      <th></th>\n",
       "      <th>card_member</th>\n",
       "      <th>Age</th>\n",
       "      <th>annual_income</th>\n",
       "      <th>spending_score</th>\n",
       "    </tr>\n",
       "  </thead>\n",
       "  <tbody>\n",
       "    <tr>\n",
       "      <th>0</th>\n",
       "      <td>1.128152</td>\n",
       "      <td>-1.424569</td>\n",
       "      <td>-1.738999</td>\n",
       "      <td>-0.434801</td>\n",
       "    </tr>\n",
       "    <tr>\n",
       "      <th>1</th>\n",
       "      <td>1.128152</td>\n",
       "      <td>-1.281035</td>\n",
       "      <td>-1.738999</td>\n",
       "      <td>1.195704</td>\n",
       "    </tr>\n",
       "    <tr>\n",
       "      <th>2</th>\n",
       "      <td>-0.886405</td>\n",
       "      <td>-1.352802</td>\n",
       "      <td>-1.700830</td>\n",
       "      <td>-1.715913</td>\n",
       "    </tr>\n",
       "    <tr>\n",
       "      <th>3</th>\n",
       "      <td>-0.886405</td>\n",
       "      <td>-1.137502</td>\n",
       "      <td>-1.700830</td>\n",
       "      <td>1.040418</td>\n",
       "    </tr>\n",
       "    <tr>\n",
       "      <th>4</th>\n",
       "      <td>-0.886405</td>\n",
       "      <td>-0.563369</td>\n",
       "      <td>-1.662660</td>\n",
       "      <td>-0.395980</td>\n",
       "    </tr>\n",
       "  </tbody>\n",
       "</table>\n",
       "</div>"
      ],
      "text/plain": [
       "   card_member       Age  annual_income  spending_score\n",
       "0     1.128152 -1.424569      -1.738999       -0.434801\n",
       "1     1.128152 -1.281035      -1.738999        1.195704\n",
       "2    -0.886405 -1.352802      -1.700830       -1.715913\n",
       "3    -0.886405 -1.137502      -1.700830        1.040418\n",
       "4    -0.886405 -0.563369      -1.662660       -0.395980"
      ]
     },
     "execution_count": 44,
     "metadata": {},
     "output_type": "execute_result"
    }
   ],
   "source": [
    "shopper_df = pd.read_csv('shopper_data_scaled_with_StandardScaler.csv')\n",
    "shopper_df.head()"
   ]
  },
  {
   "cell_type": "code",
   "execution_count": 45,
   "id": "a4b3aae1",
   "metadata": {},
   "outputs": [
    {
     "name": "stderr",
     "output_type": "stream",
     "text": [
      "C:\\Users\\User\\anaconda3\\envs\\mlenv\\lib\\site-packages\\sklearn\\cluster\\_kmeans.py:882: UserWarning:\n",
      "\n",
      "KMeans is known to have a memory leak on Windows with MKL, when there are less chunks than available threads. You can avoid it by setting the environment variable OMP_NUM_THREADS=1.\n",
      "\n"
     ]
    },
    {
     "name": "stdout",
     "output_type": "stream",
     "text": [
      "[800.0000000000003, 588.8026767824932, 476.7875544135158, 386.71478577406884, 325.44857048543486, 275.1950046939481, 236.25761095237866, 200.31388217165548, 174.12493921599284, 152.02983429775693]\n"
     ]
    }
   ],
   "source": [
    "k_values = list(range(1,11))\n",
    "inertia = []\n",
    "for i in k_values:\n",
    "    km_model = KMeans(n_clusters = i, random_state = 0)\n",
    "    km_model.fit(shopper_df)\n",
    "    inertia.append(km_model.inertia_)\n",
    "print(inertia)"
   ]
  },
  {
   "cell_type": "code",
   "execution_count": 46,
   "id": "bcf5ac22",
   "metadata": {},
   "outputs": [
    {
     "data": {},
     "metadata": {},
     "output_type": "display_data"
    },
    {
     "data": {
      "application/vnd.holoviews_exec.v0+json": "",
      "text/html": [
       "<div id='3162'>\n",
       "\n",
       "\n",
       "\n",
       "\n",
       "\n",
       "  <div class=\"bk-root\" id=\"e265d989-9846-4559-9764-576fb26f85bf\" data-root-id=\"3162\"></div>\n",
       "</div>\n",
       "<script type=\"application/javascript\">(function(root) {\n",
       "  function embed_document(root) {\n",
       "    var docs_json = {\"82a65c42-1912-4a2d-bad3-40635c578d5b\":{\"defs\":[{\"extends\":null,\"module\":null,\"name\":\"ReactiveHTML1\",\"overrides\":[],\"properties\":[]},{\"extends\":null,\"module\":null,\"name\":\"FlexBox1\",\"overrides\":[],\"properties\":[{\"default\":\"flex-start\",\"kind\":null,\"name\":\"align_content\"},{\"default\":\"flex-start\",\"kind\":null,\"name\":\"align_items\"},{\"default\":\"row\",\"kind\":null,\"name\":\"flex_direction\"},{\"default\":\"wrap\",\"kind\":null,\"name\":\"flex_wrap\"},{\"default\":\"flex-start\",\"kind\":null,\"name\":\"justify_content\"}]},{\"extends\":null,\"module\":null,\"name\":\"TemplateActions1\",\"overrides\":[],\"properties\":[{\"default\":0,\"kind\":null,\"name\":\"open_modal\"},{\"default\":0,\"kind\":null,\"name\":\"close_modal\"}]},{\"extends\":null,\"module\":null,\"name\":\"MaterialTemplateActions1\",\"overrides\":[],\"properties\":[{\"default\":0,\"kind\":null,\"name\":\"open_modal\"},{\"default\":0,\"kind\":null,\"name\":\"close_modal\"}]}],\"roots\":{\"references\":[{\"attributes\":{\"axis\":{\"id\":\"3180\"},\"dimension\":1,\"grid_line_color\":null,\"ticker\":null},\"id\":\"3183\",\"type\":\"Grid\"},{\"attributes\":{\"data_source\":{\"id\":\"3197\"},\"glyph\":{\"id\":\"3200\"},\"hover_glyph\":null,\"muted_glyph\":{\"id\":\"3202\"},\"nonselection_glyph\":{\"id\":\"3201\"},\"selection_glyph\":{\"id\":\"3205\"},\"view\":{\"id\":\"3204\"}},\"id\":\"3203\",\"type\":\"GlyphRenderer\"},{\"attributes\":{},\"id\":\"3208\",\"type\":\"BasicTickFormatter\"},{\"attributes\":{\"bottom_units\":\"screen\",\"fill_alpha\":0.5,\"fill_color\":\"lightgrey\",\"left_units\":\"screen\",\"level\":\"overlay\",\"line_alpha\":1.0,\"line_color\":\"black\",\"line_dash\":[4,4],\"line_width\":2,\"right_units\":\"screen\",\"syncable\":false,\"top_units\":\"screen\"},\"id\":\"3189\",\"type\":\"BoxAnnotation\"},{\"attributes\":{\"callback\":null,\"renderers\":[{\"id\":\"3203\"}],\"tags\":[\"hv_created\"],\"tooltips\":[[\"k_val\",\"@{k_val}\"],[\"inertia\",\"@{inertia}\"]]},\"id\":\"3166\",\"type\":\"HoverTool\"},{\"attributes\":{\"line_alpha\":0.2,\"line_color\":\"#30a2da\",\"line_width\":2,\"x\":{\"field\":\"k_val\"},\"y\":{\"field\":\"inertia\"}},\"id\":\"3202\",\"type\":\"Line\"},{\"attributes\":{\"active_multi\":null,\"tools\":[{\"id\":\"3166\"},{\"id\":\"3184\"},{\"id\":\"3185\"},{\"id\":\"3186\"},{\"id\":\"3187\"},{\"id\":\"3188\"}]},\"id\":\"3190\",\"type\":\"Toolbar\"},{\"attributes\":{},\"id\":\"3207\",\"type\":\"AllLabels\"},{\"attributes\":{},\"id\":\"3184\",\"type\":\"SaveTool\"},{\"attributes\":{\"below\":[{\"id\":\"3176\"}],\"center\":[{\"id\":\"3179\"},{\"id\":\"3183\"}],\"height\":300,\"left\":[{\"id\":\"3180\"}],\"margin\":[5,5,5,5],\"min_border_bottom\":10,\"min_border_left\":10,\"min_border_right\":10,\"min_border_top\":10,\"renderers\":[{\"id\":\"3203\"}],\"sizing_mode\":\"fixed\",\"title\":{\"id\":\"3168\"},\"toolbar\":{\"id\":\"3190\"},\"width\":700,\"x_range\":{\"id\":\"3164\"},\"x_scale\":{\"id\":\"3172\"},\"y_range\":{\"id\":\"3165\"},\"y_scale\":{\"id\":\"3174\"}},\"id\":\"3167\",\"subtype\":\"Figure\",\"type\":\"Plot\"},{\"attributes\":{},\"id\":\"3185\",\"type\":\"PanTool\"},{\"attributes\":{},\"id\":\"3188\",\"type\":\"ResetTool\"},{\"attributes\":{\"source\":{\"id\":\"3197\"}},\"id\":\"3204\",\"type\":\"CDSView\"},{\"attributes\":{},\"id\":\"3186\",\"type\":\"WheelZoomTool\"},{\"attributes\":{\"line_alpha\":0.1,\"line_color\":\"#30a2da\",\"line_width\":2,\"x\":{\"field\":\"k_val\"},\"y\":{\"field\":\"inertia\"}},\"id\":\"3201\",\"type\":\"Line\"},{\"attributes\":{},\"id\":\"3223\",\"type\":\"UnionRenderers\"},{\"attributes\":{\"end\":10.0,\"reset_end\":10.0,\"reset_start\":1.0,\"start\":1.0,\"tags\":[[[\"k_val\",\"k_val\",null]]]},\"id\":\"3164\",\"type\":\"Range1d\"},{\"attributes\":{\"axis\":{\"id\":\"3176\"},\"grid_line_color\":null,\"ticker\":null},\"id\":\"3179\",\"type\":\"Grid\"},{\"attributes\":{\"overlay\":{\"id\":\"3189\"}},\"id\":\"3187\",\"type\":\"BoxZoomTool\"},{\"attributes\":{\"line_color\":\"#30a2da\",\"line_width\":2,\"x\":{\"field\":\"k_val\"},\"y\":{\"field\":\"inertia\"}},\"id\":\"3200\",\"type\":\"Line\"},{\"attributes\":{\"ticks\":[1,2,3,4,5,6,7,8,9,10]},\"id\":\"3206\",\"type\":\"FixedTicker\"},{\"attributes\":{},\"id\":\"3213\",\"type\":\"BasicTickFormatter\"},{\"attributes\":{},\"id\":\"3181\",\"type\":\"BasicTicker\"},{\"attributes\":{\"text\":\"Elbow Plot\",\"text_color\":\"black\",\"text_font_size\":\"12pt\"},\"id\":\"3168\",\"type\":\"Title\"},{\"attributes\":{},\"id\":\"3172\",\"type\":\"LinearScale\"},{\"attributes\":{},\"id\":\"3198\",\"type\":\"Selection\"},{\"attributes\":{\"children\":[{\"id\":\"3163\"},{\"id\":\"3167\"},{\"id\":\"3233\"}],\"margin\":[0,0,0,0],\"name\":\"Row06152\",\"tags\":[\"embedded\"]},\"id\":\"3162\",\"type\":\"Row\"},{\"attributes\":{\"margin\":[5,5,5,5],\"name\":\"HSpacer06157\",\"sizing_mode\":\"stretch_width\"},\"id\":\"3233\",\"type\":\"Spacer\"},{\"attributes\":{},\"id\":\"3174\",\"type\":\"LinearScale\"},{\"attributes\":{\"data\":{\"inertia\":{\"__ndarray__\":\"AwAAAAAAiUCJEM7ha2aCQO8dqNKZzH1AWTQ1w28reEBMzj5YLVd0QC3xPb0eM3FA2fFSWT6IbUDZwZ9SCwppQKvVhoD/w2VASaUOZ/QAY0A=\",\"dtype\":\"float64\",\"order\":\"little\",\"shape\":[10]},\"k_val\":[1,2,3,4,5,6,7,8,9,10]},\"selected\":{\"id\":\"3198\"},\"selection_policy\":{\"id\":\"3223\"}},\"id\":\"3197\",\"type\":\"ColumnDataSource\"},{\"attributes\":{\"end\":864.7970165702247,\"reset_end\":864.7970165702247,\"reset_start\":87.23281772753259,\"start\":87.23281772753259,\"tags\":[[[\"inertia\",\"inertia\",null]]]},\"id\":\"3165\",\"type\":\"Range1d\"},{\"attributes\":{\"axis_label\":\"inertia\",\"formatter\":{\"id\":\"3213\"},\"major_label_policy\":{\"id\":\"3212\"},\"ticker\":{\"id\":\"3181\"}},\"id\":\"3180\",\"type\":\"LinearAxis\"},{\"attributes\":{\"axis_label\":\"k_val\",\"formatter\":{\"id\":\"3208\"},\"major_label_policy\":{\"id\":\"3207\"},\"ticker\":{\"id\":\"3206\"}},\"id\":\"3176\",\"type\":\"LinearAxis\"},{\"attributes\":{\"margin\":[5,5,5,5],\"name\":\"HSpacer06156\",\"sizing_mode\":\"stretch_width\"},\"id\":\"3163\",\"type\":\"Spacer\"},{\"attributes\":{},\"id\":\"3212\",\"type\":\"AllLabels\"},{\"attributes\":{\"line_color\":\"#30a2da\",\"line_width\":2,\"x\":{\"field\":\"k_val\"},\"y\":{\"field\":\"inertia\"}},\"id\":\"3205\",\"type\":\"Line\"}],\"root_ids\":[\"3162\"]},\"title\":\"Bokeh Application\",\"version\":\"2.3.2\"}};\n",
       "    var render_items = [{\"docid\":\"82a65c42-1912-4a2d-bad3-40635c578d5b\",\"root_ids\":[\"3162\"],\"roots\":{\"3162\":\"e265d989-9846-4559-9764-576fb26f85bf\"}}];\n",
       "    root.Bokeh.embed.embed_items_notebook(docs_json, render_items);\n",
       "  }\n",
       "  if (root.Bokeh !== undefined && root.Bokeh.Panel !== undefined) {\n",
       "    embed_document(root);\n",
       "  } else {\n",
       "    var attempts = 0;\n",
       "    var timer = setInterval(function(root) {\n",
       "      if (root.Bokeh !== undefined && root.Bokeh.Panel !== undefined) {\n",
       "        clearInterval(timer);\n",
       "        embed_document(root);\n",
       "      } else if (document.readyState == \"complete\") {\n",
       "        attempts++;\n",
       "        if (attempts > 200) {\n",
       "          clearInterval(timer);\n",
       "          console.log(\"Bokeh: ERROR: Unable to run BokehJS code because BokehJS library is missing\");\n",
       "        }\n",
       "      }\n",
       "    }, 25, root)\n",
       "  }\n",
       "})(window);</script>"
      ],
      "text/plain": [
       ":Curve   [k_val]   (inertia)"
      ]
     },
     "execution_count": 46,
     "metadata": {
      "application/vnd.holoviews_exec.v0+json": {
       "id": "3162"
      }
     },
     "output_type": "execute_result"
    }
   ],
   "source": [
    "elbow_data = {'k_val':  k_values, 'inertia':  inertia}\n",
    "elbow_df = pd.DataFrame(elbow_data)\n",
    "elbow_df.hvplot.line(x='k_val', y='inertia', title='Elbow Plot', xticks = k_values)"
   ]
  },
  {
   "cell_type": "code",
   "execution_count": 47,
   "id": "b6133d14",
   "metadata": {},
   "outputs": [],
   "source": [
    "def get_clusters(data_df, k_value):\n",
    "    km_model = KMeans(n_clusters = k_value, random_state = 0)\n",
    "    km_model.fit(data_df[['card_member','Age','annual_income','spending_score']])\n",
    "    predictions = km_model.predict(data_df[['card_member','Age','annual_income','spending_score']])\n",
    "    column_name = 'predictions k =' + str(k_value)\n",
    "    data_df[column_name] = km_model.labels_\n",
    "    return data_df\n"
   ]
  },
  {
   "cell_type": "code",
   "execution_count": 48,
   "id": "1755bb23",
   "metadata": {},
   "outputs": [
    {
     "data": {
      "text/html": [
       "<div>\n",
       "<style scoped>\n",
       "    .dataframe tbody tr th:only-of-type {\n",
       "        vertical-align: middle;\n",
       "    }\n",
       "\n",
       "    .dataframe tbody tr th {\n",
       "        vertical-align: top;\n",
       "    }\n",
       "\n",
       "    .dataframe thead th {\n",
       "        text-align: right;\n",
       "    }\n",
       "</style>\n",
       "<table border=\"1\" class=\"dataframe\">\n",
       "  <thead>\n",
       "    <tr style=\"text-align: right;\">\n",
       "      <th></th>\n",
       "      <th>card_member</th>\n",
       "      <th>Age</th>\n",
       "      <th>annual_income</th>\n",
       "      <th>spending_score</th>\n",
       "      <th>predictions k =6</th>\n",
       "    </tr>\n",
       "  </thead>\n",
       "  <tbody>\n",
       "    <tr>\n",
       "      <th>0</th>\n",
       "      <td>1.128152</td>\n",
       "      <td>-1.424569</td>\n",
       "      <td>-1.738999</td>\n",
       "      <td>-0.434801</td>\n",
       "      <td>3</td>\n",
       "    </tr>\n",
       "    <tr>\n",
       "      <th>1</th>\n",
       "      <td>1.128152</td>\n",
       "      <td>-1.281035</td>\n",
       "      <td>-1.738999</td>\n",
       "      <td>1.195704</td>\n",
       "      <td>3</td>\n",
       "    </tr>\n",
       "    <tr>\n",
       "      <th>2</th>\n",
       "      <td>-0.886405</td>\n",
       "      <td>-1.352802</td>\n",
       "      <td>-1.700830</td>\n",
       "      <td>-1.715913</td>\n",
       "      <td>1</td>\n",
       "    </tr>\n",
       "    <tr>\n",
       "      <th>3</th>\n",
       "      <td>-0.886405</td>\n",
       "      <td>-1.137502</td>\n",
       "      <td>-1.700830</td>\n",
       "      <td>1.040418</td>\n",
       "      <td>1</td>\n",
       "    </tr>\n",
       "    <tr>\n",
       "      <th>4</th>\n",
       "      <td>-0.886405</td>\n",
       "      <td>-0.563369</td>\n",
       "      <td>-1.662660</td>\n",
       "      <td>-0.395980</td>\n",
       "      <td>1</td>\n",
       "    </tr>\n",
       "    <tr>\n",
       "      <th>...</th>\n",
       "      <td>...</td>\n",
       "      <td>...</td>\n",
       "      <td>...</td>\n",
       "      <td>...</td>\n",
       "      <td>...</td>\n",
       "    </tr>\n",
       "    <tr>\n",
       "      <th>195</th>\n",
       "      <td>-0.886405</td>\n",
       "      <td>-0.276302</td>\n",
       "      <td>2.268791</td>\n",
       "      <td>1.118061</td>\n",
       "      <td>5</td>\n",
       "    </tr>\n",
       "    <tr>\n",
       "      <th>196</th>\n",
       "      <td>-0.886405</td>\n",
       "      <td>0.441365</td>\n",
       "      <td>2.497807</td>\n",
       "      <td>-0.861839</td>\n",
       "      <td>0</td>\n",
       "    </tr>\n",
       "    <tr>\n",
       "      <th>197</th>\n",
       "      <td>1.128152</td>\n",
       "      <td>-0.491602</td>\n",
       "      <td>2.497807</td>\n",
       "      <td>0.923953</td>\n",
       "      <td>5</td>\n",
       "    </tr>\n",
       "    <tr>\n",
       "      <th>198</th>\n",
       "      <td>1.128152</td>\n",
       "      <td>-0.491602</td>\n",
       "      <td>2.917671</td>\n",
       "      <td>-1.250054</td>\n",
       "      <td>0</td>\n",
       "    </tr>\n",
       "    <tr>\n",
       "      <th>199</th>\n",
       "      <td>1.128152</td>\n",
       "      <td>-0.635135</td>\n",
       "      <td>2.917671</td>\n",
       "      <td>1.273347</td>\n",
       "      <td>5</td>\n",
       "    </tr>\n",
       "  </tbody>\n",
       "</table>\n",
       "<p>200 rows × 5 columns</p>\n",
       "</div>"
      ],
      "text/plain": [
       "     card_member       Age  annual_income  spending_score  predictions k =6\n",
       "0       1.128152 -1.424569      -1.738999       -0.434801                 3\n",
       "1       1.128152 -1.281035      -1.738999        1.195704                 3\n",
       "2      -0.886405 -1.352802      -1.700830       -1.715913                 1\n",
       "3      -0.886405 -1.137502      -1.700830        1.040418                 1\n",
       "4      -0.886405 -0.563369      -1.662660       -0.395980                 1\n",
       "..           ...       ...            ...             ...               ...\n",
       "195    -0.886405 -0.276302       2.268791        1.118061                 5\n",
       "196    -0.886405  0.441365       2.497807       -0.861839                 0\n",
       "197     1.128152 -0.491602       2.497807        0.923953                 5\n",
       "198     1.128152 -0.491602       2.917671       -1.250054                 0\n",
       "199     1.128152 -0.635135       2.917671        1.273347                 5\n",
       "\n",
       "[200 rows x 5 columns]"
      ]
     },
     "execution_count": 48,
     "metadata": {},
     "output_type": "execute_result"
    }
   ],
   "source": [
    "get_clusters(shopper_df, 6)"
   ]
  },
  {
   "cell_type": "code",
   "execution_count": 40,
   "id": "a6d9edf2",
   "metadata": {},
   "outputs": [
    {
     "data": {
      "text/html": [
       "<div>\n",
       "<style scoped>\n",
       "    .dataframe tbody tr th:only-of-type {\n",
       "        vertical-align: middle;\n",
       "    }\n",
       "\n",
       "    .dataframe tbody tr th {\n",
       "        vertical-align: top;\n",
       "    }\n",
       "\n",
       "    .dataframe thead th {\n",
       "        text-align: right;\n",
       "    }\n",
       "</style>\n",
       "<table border=\"1\" class=\"dataframe\">\n",
       "  <thead>\n",
       "    <tr style=\"text-align: right;\">\n",
       "      <th></th>\n",
       "      <th>card_member</th>\n",
       "      <th>Age</th>\n",
       "      <th>annual_income</th>\n",
       "      <th>spending_score</th>\n",
       "      <th>predictions</th>\n",
       "      <th>predictions k =6</th>\n",
       "      <th>predictions k =5</th>\n",
       "    </tr>\n",
       "  </thead>\n",
       "  <tbody>\n",
       "    <tr>\n",
       "      <th>0</th>\n",
       "      <td>1.128152</td>\n",
       "      <td>-1.424569</td>\n",
       "      <td>-1.738999</td>\n",
       "      <td>-0.434801</td>\n",
       "      <td>3</td>\n",
       "      <td>3</td>\n",
       "      <td>4</td>\n",
       "    </tr>\n",
       "    <tr>\n",
       "      <th>1</th>\n",
       "      <td>1.128152</td>\n",
       "      <td>-1.281035</td>\n",
       "      <td>-1.738999</td>\n",
       "      <td>1.195704</td>\n",
       "      <td>3</td>\n",
       "      <td>3</td>\n",
       "      <td>4</td>\n",
       "    </tr>\n",
       "    <tr>\n",
       "      <th>2</th>\n",
       "      <td>-0.886405</td>\n",
       "      <td>-1.352802</td>\n",
       "      <td>-1.700830</td>\n",
       "      <td>-1.715913</td>\n",
       "      <td>1</td>\n",
       "      <td>1</td>\n",
       "      <td>2</td>\n",
       "    </tr>\n",
       "    <tr>\n",
       "      <th>3</th>\n",
       "      <td>-0.886405</td>\n",
       "      <td>-1.137502</td>\n",
       "      <td>-1.700830</td>\n",
       "      <td>1.040418</td>\n",
       "      <td>1</td>\n",
       "      <td>1</td>\n",
       "      <td>0</td>\n",
       "    </tr>\n",
       "    <tr>\n",
       "      <th>4</th>\n",
       "      <td>-0.886405</td>\n",
       "      <td>-0.563369</td>\n",
       "      <td>-1.662660</td>\n",
       "      <td>-0.395980</td>\n",
       "      <td>1</td>\n",
       "      <td>1</td>\n",
       "      <td>2</td>\n",
       "    </tr>\n",
       "    <tr>\n",
       "      <th>...</th>\n",
       "      <td>...</td>\n",
       "      <td>...</td>\n",
       "      <td>...</td>\n",
       "      <td>...</td>\n",
       "      <td>...</td>\n",
       "      <td>...</td>\n",
       "      <td>...</td>\n",
       "    </tr>\n",
       "    <tr>\n",
       "      <th>195</th>\n",
       "      <td>-0.886405</td>\n",
       "      <td>-0.276302</td>\n",
       "      <td>2.268791</td>\n",
       "      <td>1.118061</td>\n",
       "      <td>5</td>\n",
       "      <td>5</td>\n",
       "      <td>0</td>\n",
       "    </tr>\n",
       "    <tr>\n",
       "      <th>196</th>\n",
       "      <td>-0.886405</td>\n",
       "      <td>0.441365</td>\n",
       "      <td>2.497807</td>\n",
       "      <td>-0.861839</td>\n",
       "      <td>0</td>\n",
       "      <td>0</td>\n",
       "      <td>3</td>\n",
       "    </tr>\n",
       "    <tr>\n",
       "      <th>197</th>\n",
       "      <td>1.128152</td>\n",
       "      <td>-0.491602</td>\n",
       "      <td>2.497807</td>\n",
       "      <td>0.923953</td>\n",
       "      <td>5</td>\n",
       "      <td>5</td>\n",
       "      <td>4</td>\n",
       "    </tr>\n",
       "    <tr>\n",
       "      <th>198</th>\n",
       "      <td>1.128152</td>\n",
       "      <td>-0.491602</td>\n",
       "      <td>2.917671</td>\n",
       "      <td>-1.250054</td>\n",
       "      <td>0</td>\n",
       "      <td>0</td>\n",
       "      <td>3</td>\n",
       "    </tr>\n",
       "    <tr>\n",
       "      <th>199</th>\n",
       "      <td>1.128152</td>\n",
       "      <td>-0.635135</td>\n",
       "      <td>2.917671</td>\n",
       "      <td>1.273347</td>\n",
       "      <td>5</td>\n",
       "      <td>5</td>\n",
       "      <td>4</td>\n",
       "    </tr>\n",
       "  </tbody>\n",
       "</table>\n",
       "<p>200 rows × 7 columns</p>\n",
       "</div>"
      ],
      "text/plain": [
       "     card_member       Age  annual_income  spending_score  predictions  \\\n",
       "0       1.128152 -1.424569      -1.738999       -0.434801            3   \n",
       "1       1.128152 -1.281035      -1.738999        1.195704            3   \n",
       "2      -0.886405 -1.352802      -1.700830       -1.715913            1   \n",
       "3      -0.886405 -1.137502      -1.700830        1.040418            1   \n",
       "4      -0.886405 -0.563369      -1.662660       -0.395980            1   \n",
       "..           ...       ...            ...             ...          ...   \n",
       "195    -0.886405 -0.276302       2.268791        1.118061            5   \n",
       "196    -0.886405  0.441365       2.497807       -0.861839            0   \n",
       "197     1.128152 -0.491602       2.497807        0.923953            5   \n",
       "198     1.128152 -0.491602       2.917671       -1.250054            0   \n",
       "199     1.128152 -0.635135       2.917671        1.273347            5   \n",
       "\n",
       "     predictions k =6  predictions k =5  \n",
       "0                   3                 4  \n",
       "1                   3                 4  \n",
       "2                   1                 2  \n",
       "3                   1                 0  \n",
       "4                   1                 2  \n",
       "..                ...               ...  \n",
       "195                 5                 0  \n",
       "196                 0                 3  \n",
       "197                 5                 4  \n",
       "198                 0                 3  \n",
       "199                 5                 4  \n",
       "\n",
       "[200 rows x 7 columns]"
      ]
     },
     "execution_count": 40,
     "metadata": {},
     "output_type": "execute_result"
    }
   ],
   "source": [
    "get_clusters(shopper_df, 5)"
   ]
  },
  {
   "cell_type": "code",
   "execution_count": 49,
   "id": "94ea6659",
   "metadata": {},
   "outputs": [
    {
     "data": {},
     "metadata": {},
     "output_type": "display_data"
    },
    {
     "data": {
      "application/vnd.holoviews_exec.v0+json": "",
      "text/html": [
       "<div id='3280'>\n",
       "\n",
       "\n",
       "\n",
       "\n",
       "\n",
       "  <div class=\"bk-root\" id=\"1acebb0a-1f39-485e-81bd-7c2f6b8f6419\" data-root-id=\"3280\"></div>\n",
       "</div>\n",
       "<script type=\"application/javascript\">(function(root) {\n",
       "  function embed_document(root) {\n",
       "    var docs_json = {\"7f5bdbd1-b678-4aa7-b649-b379924077a2\":{\"defs\":[{\"extends\":null,\"module\":null,\"name\":\"ReactiveHTML1\",\"overrides\":[],\"properties\":[]},{\"extends\":null,\"module\":null,\"name\":\"FlexBox1\",\"overrides\":[],\"properties\":[{\"default\":\"flex-start\",\"kind\":null,\"name\":\"align_content\"},{\"default\":\"flex-start\",\"kind\":null,\"name\":\"align_items\"},{\"default\":\"row\",\"kind\":null,\"name\":\"flex_direction\"},{\"default\":\"wrap\",\"kind\":null,\"name\":\"flex_wrap\"},{\"default\":\"flex-start\",\"kind\":null,\"name\":\"justify_content\"}]},{\"extends\":null,\"module\":null,\"name\":\"TemplateActions1\",\"overrides\":[],\"properties\":[{\"default\":0,\"kind\":null,\"name\":\"open_modal\"},{\"default\":0,\"kind\":null,\"name\":\"close_modal\"}]},{\"extends\":null,\"module\":null,\"name\":\"MaterialTemplateActions1\",\"overrides\":[],\"properties\":[{\"default\":0,\"kind\":null,\"name\":\"open_modal\"},{\"default\":0,\"kind\":null,\"name\":\"close_modal\"}]}],\"roots\":{\"references\":[{\"attributes\":{\"source\":{\"id\":\"3447\"}},\"id\":\"3454\",\"type\":\"CDSView\"},{\"attributes\":{\"fill_alpha\":{\"value\":0.2},\"fill_color\":{\"value\":\"#17becf\"},\"line_alpha\":{\"value\":0.2},\"line_color\":{\"value\":\"#17becf\"},\"size\":{\"value\":5.477225575051661},\"x\":{\"field\":\"annual_income\"},\"y\":{\"field\":\"spending_score\"}},\"id\":\"3452\",\"type\":\"Scatter\"},{\"attributes\":{},\"id\":\"3320\",\"type\":\"AllLabels\"},{\"attributes\":{\"angle\":{\"value\":0.0},\"fill_alpha\":{\"value\":1.0},\"fill_color\":{\"value\":\"#6d904f\"},\"hatch_alpha\":{\"value\":1.0},\"hatch_color\":{\"value\":\"black\"},\"hatch_scale\":{\"value\":12.0},\"hatch_weight\":{\"value\":1.0},\"line_alpha\":{\"value\":1.0},\"line_cap\":{\"value\":\"butt\"},\"line_color\":{\"value\":\"#6d904f\"},\"line_dash\":{\"value\":[]},\"line_dash_offset\":{\"value\":0},\"line_join\":{\"value\":\"bevel\"},\"line_width\":{\"value\":1},\"marker\":{\"value\":\"circle\"},\"size\":{\"value\":5.477225575051661},\"x\":{\"field\":\"annual_income\"},\"y\":{\"field\":\"spending_score\"}},\"id\":\"3418\",\"type\":\"Scatter\"},{\"attributes\":{\"fill_color\":{\"value\":\"#30a2da\"},\"line_color\":{\"value\":\"#30a2da\"},\"size\":{\"value\":5.477225575051661},\"x\":{\"field\":\"annual_income\"},\"y\":{\"field\":\"spending_score\"}},\"id\":\"3329\",\"type\":\"Scatter\"},{\"attributes\":{},\"id\":\"3348\",\"type\":\"Selection\"},{\"attributes\":{\"bottom_units\":\"screen\",\"fill_alpha\":0.5,\"fill_color\":\"lightgrey\",\"left_units\":\"screen\",\"level\":\"overlay\",\"line_alpha\":1.0,\"line_color\":\"black\",\"line_dash\":[4,4],\"line_width\":2,\"right_units\":\"screen\",\"syncable\":false,\"top_units\":\"screen\"},\"id\":\"3312\",\"type\":\"BoxAnnotation\"},{\"attributes\":{\"label\":{\"value\":\"2\"},\"renderers\":[{\"id\":\"3375\"}]},\"id\":\"3391\",\"type\":\"LegendItem\"},{\"attributes\":{\"active_multi\":null,\"tools\":[{\"id\":\"3284\"},{\"id\":\"3307\"},{\"id\":\"3308\"},{\"id\":\"3309\"},{\"id\":\"3310\"},{\"id\":\"3311\"}]},\"id\":\"3313\",\"type\":\"Toolbar\"},{\"attributes\":{\"axis\":{\"id\":\"3299\"},\"grid_line_color\":null,\"ticker\":null},\"id\":\"3302\",\"type\":\"Grid\"},{\"attributes\":{},\"id\":\"3327\",\"type\":\"Selection\"},{\"attributes\":{},\"id\":\"3390\",\"type\":\"UnionRenderers\"},{\"attributes\":{},\"id\":\"3366\",\"type\":\"UnionRenderers\"},{\"attributes\":{\"fill_alpha\":{\"value\":0.2},\"fill_color\":{\"value\":\"#6d904f\"},\"line_alpha\":{\"value\":0.2},\"line_color\":{\"value\":\"#6d904f\"},\"size\":{\"value\":5.477225575051661},\"x\":{\"field\":\"annual_income\"},\"y\":{\"field\":\"spending_score\"}},\"id\":\"3398\",\"type\":\"Scatter\"},{\"attributes\":{\"fill_alpha\":{\"value\":0.2},\"fill_color\":{\"value\":\"#8b8b8b\"},\"line_alpha\":{\"value\":0.2},\"line_color\":{\"value\":\"#8b8b8b\"},\"size\":{\"value\":5.477225575051661},\"x\":{\"field\":\"annual_income\"},\"y\":{\"field\":\"spending_score\"}},\"id\":\"3424\",\"type\":\"Scatter\"},{\"attributes\":{\"label\":{\"value\":\"1\"},\"renderers\":[{\"id\":\"3353\"}]},\"id\":\"3367\",\"type\":\"LegendItem\"},{\"attributes\":{\"end\":2.274943457695721,\"reset_end\":2.274943457695721,\"reset_start\":-2.290472081980333,\"start\":-2.290472081980333,\"tags\":[[[\"spending_score\",\"spending_score\",null]]]},\"id\":\"3283\",\"type\":\"Range1d\"},{\"attributes\":{},\"id\":\"3323\",\"type\":\"AllLabels\"},{\"attributes\":{\"margin\":[5,5,5,5],\"name\":\"HSpacer06446\",\"sizing_mode\":\"stretch_width\"},\"id\":\"3657\",\"type\":\"Spacer\"},{\"attributes\":{\"angle\":{\"value\":0.0},\"fill_alpha\":{\"value\":1.0},\"fill_color\":{\"value\":\"#e5ae38\"},\"hatch_alpha\":{\"value\":1.0},\"hatch_color\":{\"value\":\"black\"},\"hatch_scale\":{\"value\":12.0},\"hatch_weight\":{\"value\":1.0},\"line_alpha\":{\"value\":1.0},\"line_cap\":{\"value\":\"butt\"},\"line_color\":{\"value\":\"#e5ae38\"},\"line_dash\":{\"value\":[]},\"line_dash_offset\":{\"value\":0},\"line_join\":{\"value\":\"bevel\"},\"line_width\":{\"value\":1},\"marker\":{\"value\":\"circle\"},\"size\":{\"value\":5.477225575051661},\"x\":{\"field\":\"annual_income\"},\"y\":{\"field\":\"spending_score\"}},\"id\":\"3392\",\"type\":\"Scatter\"},{\"attributes\":{\"fill_alpha\":{\"value\":0.1},\"fill_color\":{\"value\":\"#8b8b8b\"},\"line_alpha\":{\"value\":0.1},\"line_color\":{\"value\":\"#8b8b8b\"},\"size\":{\"value\":5.477225575051661},\"x\":{\"field\":\"annual_income\"},\"y\":{\"field\":\"spending_score\"}},\"id\":\"3423\",\"type\":\"Scatter\"},{\"attributes\":{\"fill_alpha\":{\"value\":0.1},\"fill_color\":{\"value\":\"#17becf\"},\"line_alpha\":{\"value\":0.1},\"line_color\":{\"value\":\"#17becf\"},\"size\":{\"value\":5.477225575051661},\"x\":{\"field\":\"annual_income\"},\"y\":{\"field\":\"spending_score\"}},\"id\":\"3451\",\"type\":\"Scatter\"},{\"attributes\":{\"data\":{\"annual_income\":{\"__ndarray__\":\"g91/9Rqe1D9u2f8leQ/XP1fVf1bXgNk/V9V/VteA2T9X1X9W14DZP0LR/4Y18ts/K81/t5Nj3j8rzX+3k2PeP4vk//N4auA/gOI/DCij4T914H8k19viP2revzyGFOQ/at6/PIYU5D9f3P9UNU3lP1/c/1Q1TeU/X9z/VDVN5T9f3P9UNU3lP1/c/1Q1TeU/X9z/VDVN5T9U2j9t5IXmPz7Wv51C9+g/E86//v7Z7T8HzP8WrhLvP/7kn5euJfA//uSfl64l8D/+5J+XriXwP/njvyMGwvA/+eO/IwbC8D/d3l/gu8/zP8fa3xAaQfY/wtn/nHHd9j+82B8pyXn3P7HWX0F4svg/ptSfWSfr+T+m1J9ZJ+v5Pzjlb2lJAwBApeHf03smAkCU3j94gvsDQPbY7/pjVwdA\",\"dtype\":\"float64\",\"order\":\"little\",\"shape\":[39]},\"predictions_k_equals_6\":[5,5,5,5,5,5,5,5,5,5,5,5,5,5,5,5,5,5,5,5,5,5,5,5,5,5,5,5,5,5,5,5,5,5,5,5,5,5,5],\"spending_score\":{\"__ndarray__\":\"S2PFKLxX+T91/dYpjaXwP6wSLpbJ0/s/iEtF5gzP7j+IS0XmDM/uP8Xscwvy1uk/wt+2FrJ69z8mnNx4/1LsP3VEKML4FOs//Lp538KV+j/ps1y7rtv2P15q4kzQEf0/2POQLwaR7T9zN2vNuLj4P8Lfthayevc/nNF8zokG8D+aCxFytRn4P0wpMYWQRPE/JpzceP9S7D+IBPRNoV/0P/y6ed/Clfo/iEtF5gzP7j+sEi6WydP7P3peoqt4zd8/iEtF5gzP7j8kjx+Ev/b5PxGIAmCrPPY/Yz0LnuRa5z9zN2vNuLj4PxGIAmCrPPY/wt+2FrJ69z9eauJM0BH9P7LlVufdHOY/OFyoBKid9T9jPQue5FrnP0tjxSi8V/k/JlWL4JPj8T/Y85AvBpHtP4gE9E2hX/Q/\",\"dtype\":\"float64\",\"order\":\"little\",\"shape\":[39]}},\"selected\":{\"id\":\"3448\"},\"selection_policy\":{\"id\":\"3474\"}},\"id\":\"3447\",\"type\":\"ColumnDataSource\"},{\"attributes\":{\"angle\":{\"value\":0.0},\"fill_alpha\":{\"value\":1.0},\"fill_color\":{\"value\":\"#fc4f30\"},\"hatch_alpha\":{\"value\":1.0},\"hatch_color\":{\"value\":\"black\"},\"hatch_scale\":{\"value\":12.0},\"hatch_weight\":{\"value\":1.0},\"line_alpha\":{\"value\":1.0},\"line_cap\":{\"value\":\"butt\"},\"line_color\":{\"value\":\"#fc4f30\"},\"line_dash\":{\"value\":[]},\"line_dash_offset\":{\"value\":0},\"line_join\":{\"value\":\"bevel\"},\"line_width\":{\"value\":1},\"marker\":{\"value\":\"circle\"},\"size\":{\"value\":5.477225575051661},\"x\":{\"field\":\"annual_income\"},\"y\":{\"field\":\"spending_score\"}},\"id\":\"3368\",\"type\":\"Scatter\"},{\"attributes\":{},\"id\":\"3300\",\"type\":\"BasicTicker\"},{\"attributes\":{},\"id\":\"3321\",\"type\":\"BasicTickFormatter\"},{\"attributes\":{\"fill_alpha\":{\"value\":0.1},\"fill_color\":{\"value\":\"#6d904f\"},\"line_alpha\":{\"value\":0.1},\"line_color\":{\"value\":\"#6d904f\"},\"size\":{\"value\":5.477225575051661},\"x\":{\"field\":\"annual_income\"},\"y\":{\"field\":\"spending_score\"}},\"id\":\"3397\",\"type\":\"Scatter\"},{\"attributes\":{},\"id\":\"3295\",\"type\":\"LinearScale\"},{\"attributes\":{\"source\":{\"id\":\"3419\"}},\"id\":\"3426\",\"type\":\"CDSView\"},{\"attributes\":{\"label\":{\"value\":\"0\"},\"renderers\":[{\"id\":\"3332\"}]},\"id\":\"3345\",\"type\":\"LegendItem\"},{\"attributes\":{\"fill_alpha\":{\"value\":0.1},\"fill_color\":{\"value\":\"#e5ae38\"},\"line_alpha\":{\"value\":0.1},\"line_color\":{\"value\":\"#e5ae38\"},\"size\":{\"value\":5.477225575051661},\"x\":{\"field\":\"annual_income\"},\"y\":{\"field\":\"spending_score\"}},\"id\":\"3373\",\"type\":\"Scatter\"},{\"attributes\":{\"text_color\":\"black\",\"text_font_size\":\"12pt\"},\"id\":\"3291\",\"type\":\"Title\"},{\"attributes\":{\"data_source\":{\"id\":\"3447\"},\"glyph\":{\"id\":\"3450\"},\"hover_glyph\":null,\"muted_glyph\":{\"id\":\"3452\"},\"nonselection_glyph\":{\"id\":\"3451\"},\"selection_glyph\":{\"id\":\"3476\"},\"view\":{\"id\":\"3454\"}},\"id\":\"3453\",\"type\":\"GlyphRenderer\"},{\"attributes\":{\"data_source\":{\"id\":\"3419\"},\"glyph\":{\"id\":\"3422\"},\"hover_glyph\":null,\"muted_glyph\":{\"id\":\"3424\"},\"nonselection_glyph\":{\"id\":\"3423\"},\"selection_glyph\":{\"id\":\"3446\"},\"view\":{\"id\":\"3426\"}},\"id\":\"3425\",\"type\":\"GlyphRenderer\"},{\"attributes\":{\"fill_alpha\":{\"value\":0.2},\"fill_color\":{\"value\":\"#e5ae38\"},\"line_alpha\":{\"value\":0.2},\"line_color\":{\"value\":\"#e5ae38\"},\"size\":{\"value\":5.477225575051661},\"x\":{\"field\":\"annual_income\"},\"y\":{\"field\":\"spending_score\"}},\"id\":\"3374\",\"type\":\"Scatter\"},{\"attributes\":{\"below\":[{\"id\":\"3299\"}],\"center\":[{\"id\":\"3302\"},{\"id\":\"3306\"}],\"height\":300,\"left\":[{\"id\":\"3303\"}],\"margin\":[5,5,5,5],\"min_border_bottom\":10,\"min_border_left\":10,\"min_border_right\":10,\"min_border_top\":10,\"renderers\":[{\"id\":\"3332\"},{\"id\":\"3353\"},{\"id\":\"3375\"},{\"id\":\"3399\"},{\"id\":\"3425\"},{\"id\":\"3453\"}],\"right\":[{\"id\":\"3344\"}],\"sizing_mode\":\"fixed\",\"title\":{\"id\":\"3291\"},\"toolbar\":{\"id\":\"3313\"},\"width\":700,\"x_range\":{\"id\":\"3282\"},\"x_scale\":{\"id\":\"3295\"},\"y_range\":{\"id\":\"3283\"},\"y_scale\":{\"id\":\"3297\"}},\"id\":\"3290\",\"subtype\":\"Figure\",\"type\":\"Plot\"},{\"attributes\":{\"fill_alpha\":{\"value\":0.2},\"fill_color\":{\"value\":\"#fc4f30\"},\"line_alpha\":{\"value\":0.2},\"line_color\":{\"value\":\"#fc4f30\"},\"size\":{\"value\":5.477225575051661},\"x\":{\"field\":\"annual_income\"},\"y\":{\"field\":\"spending_score\"}},\"id\":\"3352\",\"type\":\"Scatter\"},{\"attributes\":{\"source\":{\"id\":\"3369\"}},\"id\":\"3376\",\"type\":\"CDSView\"},{\"attributes\":{\"source\":{\"id\":\"3393\"}},\"id\":\"3400\",\"type\":\"CDSView\"},{\"attributes\":{},\"id\":\"3420\",\"type\":\"Selection\"},{\"attributes\":{\"angle\":{\"value\":0.0},\"fill_alpha\":{\"value\":1.0},\"fill_color\":{\"value\":\"#30a2da\"},\"hatch_alpha\":{\"value\":1.0},\"hatch_color\":{\"value\":\"black\"},\"hatch_scale\":{\"value\":12.0},\"hatch_weight\":{\"value\":1.0},\"line_alpha\":{\"value\":1.0},\"line_cap\":{\"value\":\"butt\"},\"line_color\":{\"value\":\"#30a2da\"},\"line_dash\":{\"value\":[]},\"line_dash_offset\":{\"value\":0},\"line_join\":{\"value\":\"bevel\"},\"line_width\":{\"value\":1},\"marker\":{\"value\":\"circle\"},\"size\":{\"value\":5.477225575051661},\"x\":{\"field\":\"annual_income\"},\"y\":{\"field\":\"spending_score\"}},\"id\":\"3346\",\"type\":\"Scatter\"},{\"attributes\":{},\"id\":\"3297\",\"type\":\"LinearScale\"},{\"attributes\":{},\"id\":\"3416\",\"type\":\"UnionRenderers\"},{\"attributes\":{\"axis_label\":\"spending_score\",\"formatter\":{\"id\":\"3324\"},\"major_label_policy\":{\"id\":\"3323\"},\"ticker\":{\"id\":\"3304\"}},\"id\":\"3303\",\"type\":\"LinearAxis\"},{\"attributes\":{},\"id\":\"3394\",\"type\":\"Selection\"},{\"attributes\":{\"axis_label\":\"annual_income\",\"formatter\":{\"id\":\"3321\"},\"major_label_policy\":{\"id\":\"3320\"},\"ticker\":{\"id\":\"3300\"}},\"id\":\"3299\",\"type\":\"LinearAxis\"},{\"attributes\":{\"data\":{\"annual_income\":{\"__ndarray__\":\"V9V/VteA2T9X1X9W14DZPyvNf7eTY94/i+T/83hq4D9q3r88hhTkP2revzyGFOQ/X9z/VDVN5T9f3P9UNU3lP1/c/1Q1TeU/X9z/VDVN5T8+1r+dQvfoPxPOv/7+2e0/B8z/Fq4S7z/+5J+XriXwP/7kn5euJfA//uSfl64l8D/5478jBsLwP/njvyMGwvA/3d5f4LvP8z/H2t8QGkH2P8LZ/5xx3fY/vNgfKcl59z+x1l9BeLL4P6bUn1kn6/k/ptSfWSfr+T845W9pSQMAQKXh39N7JgJAlN4/eIL7A0D22O/6Y1cHQA==\",\"dtype\":\"float64\",\"order\":\"little\",\"shape\":[29]},\"predictions_k_equals_6\":[0,0,0,0,0,0,0,0,0,0,0,0,0,0,0,0,0,0,0,0,0,0,0,0,0,0,0,0,0],\"spending_score\":{\"__ndarray__\":\"G2jopf/h4r8JqBwaV5f5v2tXhYdkE/y/MXzCvlP4+L+AJA4ITbr3v2oQNO/4o+G/C26IdiuE8b9GSUs/PJ/0v8sG7vRxj/6/ywbu9HGP/r9rV4WHZBP8v1J9PxI8EO6/vMU8LTLC8r+iJYtbNdLsv6f4s6xJG/e/MXzCvlP4+L+n+LOsSRv3v/eg//VC3fW/z8xZUUZ89r8ubwXKE5zmv/eg//VC3fW/rhIulsnT279aFtS/JEbwv0ZJSz88n/S/M0IuGyjl8L/i03Z1Wjb6vx51pZo/PvW/8c3WpC6U679tHfHjOAD0vw==\",\"dtype\":\"float64\",\"order\":\"little\",\"shape\":[29]}},\"selected\":{\"id\":\"3327\"},\"selection_policy\":{\"id\":\"3343\"}},\"id\":\"3326\",\"type\":\"ColumnDataSource\"},{\"attributes\":{\"label\":{\"value\":\"3\"},\"renderers\":[{\"id\":\"3399\"}]},\"id\":\"3417\",\"type\":\"LegendItem\"},{\"attributes\":{\"data_source\":{\"id\":\"3393\"},\"glyph\":{\"id\":\"3396\"},\"hover_glyph\":null,\"muted_glyph\":{\"id\":\"3398\"},\"nonselection_glyph\":{\"id\":\"3397\"},\"selection_glyph\":{\"id\":\"3418\"},\"view\":{\"id\":\"3400\"}},\"id\":\"3399\",\"type\":\"GlyphRenderer\"},{\"attributes\":{\"data_source\":{\"id\":\"3347\"},\"glyph\":{\"id\":\"3350\"},\"hover_glyph\":null,\"muted_glyph\":{\"id\":\"3352\"},\"nonselection_glyph\":{\"id\":\"3351\"},\"selection_glyph\":{\"id\":\"3368\"},\"view\":{\"id\":\"3354\"}},\"id\":\"3353\",\"type\":\"GlyphRenderer\"},{\"attributes\":{\"data_source\":{\"id\":\"3369\"},\"glyph\":{\"id\":\"3372\"},\"hover_glyph\":null,\"muted_glyph\":{\"id\":\"3374\"},\"nonselection_glyph\":{\"id\":\"3373\"},\"selection_glyph\":{\"id\":\"3392\"},\"view\":{\"id\":\"3376\"}},\"id\":\"3375\",\"type\":\"GlyphRenderer\"},{\"attributes\":{},\"id\":\"3304\",\"type\":\"BasicTicker\"},{\"attributes\":{\"fill_alpha\":{\"value\":0.1},\"fill_color\":{\"value\":\"#fc4f30\"},\"line_alpha\":{\"value\":0.1},\"line_color\":{\"value\":\"#fc4f30\"},\"size\":{\"value\":5.477225575051661},\"x\":{\"field\":\"annual_income\"},\"y\":{\"field\":\"spending_score\"}},\"id\":\"3351\",\"type\":\"Scatter\"},{\"attributes\":{\"axis\":{\"id\":\"3303\"},\"dimension\":1,\"grid_line_color\":null,\"ticker\":null},\"id\":\"3306\",\"type\":\"Grid\"},{\"attributes\":{\"data\":{\"annual_income\":{\"__ndarray__\":\"dtFf0fDS+7920V/R8NL7v5PWvxQ7xfi/l9efiOMo+L+o2j/k3FP2v6jaP+TcU/a/rdsfWIW39b++3r+zfuLzv77ev7N+4vO/2eMf98jU8L/q0f90Jo7rvxba/xNqq+a/QeL/sq3I4b+uzP8En67ev67M/wSfrt6/MuX/4WkG0L8y5f/haQbQv/jM/3uXfK6/X9v/70vjlb8y4/8XlzKRP+LQ/w89JKw/5OP/BYjOwD9ey/8ovXbPPw==\",\"dtype\":\"float64\",\"order\":\"little\",\"shape\":[23]},\"predictions_k_equals_6\":[3,3,3,3,3,3,3,3,3,3,3,3,3,3,3,3,3,3,3,3,3,3,3],\"spending_score\":{\"__ndarray__\":\"rhIulsnT27/XrD+XmiHzPyZVi+CT4/E/UDbuedCg4z8baOil/+Hivyac3Hj/Uuw/JpzceP9S7D+v2JnyncDzP7f/0NBd1do/JI8fhL/2+T8kjx+Ev/b5P1VQaGNQWdg/2Ma5gBraxz/zoP/1Qt3VP/Og//VC3dU/E2jopf/hwj/YxrmAGtrHP+yzXLuu29a/HFWL4JPjsT/txrmAGtqnv9jGuYAa2sc/BY6iMNfexL+cJYtbNdLMPw==\",\"dtype\":\"float64\",\"order\":\"little\",\"shape\":[23]}},\"selected\":{\"id\":\"3394\"},\"selection_policy\":{\"id\":\"3416\"}},\"id\":\"3393\",\"type\":\"ColumnDataSource\"},{\"attributes\":{},\"id\":\"3324\",\"type\":\"BasicTickFormatter\"},{\"attributes\":{\"fill_alpha\":{\"value\":0.2},\"fill_color\":{\"value\":\"#30a2da\"},\"line_alpha\":{\"value\":0.2},\"line_color\":{\"value\":\"#30a2da\"},\"size\":{\"value\":5.477225575051661},\"x\":{\"field\":\"annual_income\"},\"y\":{\"field\":\"spending_score\"}},\"id\":\"3331\",\"type\":\"Scatter\"},{\"attributes\":{\"fill_alpha\":{\"value\":0.1},\"fill_color\":{\"value\":\"#30a2da\"},\"line_alpha\":{\"value\":0.1},\"line_color\":{\"value\":\"#30a2da\"},\"size\":{\"value\":5.477225575051661},\"x\":{\"field\":\"annual_income\"},\"y\":{\"field\":\"spending_score\"}},\"id\":\"3330\",\"type\":\"Scatter\"},{\"attributes\":{\"end\":3.1172427527026887,\"reset_end\":3.1172427527026887,\"reset_start\":-1.938570779878358,\"start\":-1.938570779878358,\"tags\":[[[\"annual_income\",\"annual_income\",null]]]},\"id\":\"3282\",\"type\":\"Range1d\"},{\"attributes\":{\"fill_color\":{\"value\":\"#e5ae38\"},\"line_color\":{\"value\":\"#e5ae38\"},\"size\":{\"value\":5.477225575051661},\"x\":{\"field\":\"annual_income\"},\"y\":{\"field\":\"spending_score\"}},\"id\":\"3372\",\"type\":\"Scatter\"},{\"attributes\":{},\"id\":\"3370\",\"type\":\"Selection\"},{\"attributes\":{},\"id\":\"3307\",\"type\":\"SaveTool\"},{\"attributes\":{\"source\":{\"id\":\"3347\"}},\"id\":\"3354\",\"type\":\"CDSView\"},{\"attributes\":{},\"id\":\"3308\",\"type\":\"PanTool\"},{\"attributes\":{\"source\":{\"id\":\"3326\"}},\"id\":\"3333\",\"type\":\"CDSView\"},{\"attributes\":{},\"id\":\"3311\",\"type\":\"ResetTool\"},{\"attributes\":{},\"id\":\"3309\",\"type\":\"WheelZoomTool\"},{\"attributes\":{\"data_source\":{\"id\":\"3326\"},\"glyph\":{\"id\":\"3329\"},\"hover_glyph\":null,\"muted_glyph\":{\"id\":\"3331\"},\"nonselection_glyph\":{\"id\":\"3330\"},\"selection_glyph\":{\"id\":\"3346\"},\"view\":{\"id\":\"3333\"}},\"id\":\"3332\",\"type\":\"GlyphRenderer\"},{\"attributes\":{\"margin\":[5,5,5,5],\"name\":\"HSpacer06445\",\"sizing_mode\":\"stretch_width\"},\"id\":\"3281\",\"type\":\"Spacer\"},{\"attributes\":{\"data\":{\"annual_income\":{\"__ndarray__\":\"jdXfoJJh+b+N1d+gkmH5v5PWvxQ7xfi/otlfcDTw9r/J4H+bz6nyv9njH/fI1PC/9dO/XHdV6r8h3L/7unLlvyHcv/u6cuW/K95/4ws65L9B4v+yrcjhv0Hi/7KtyOG/rsz/BJ+u3r/F0H/UQD3cvzLl/+FpBtC/MuX/4WkG0L8y5f/haQbQvzLl/+FpBtC/MuX/4WkG0L9f2//vS+OVvzLj/xeXMpE/4tD/Dz0krD/i0P8PPSSsPxzY/0mX17c/HNj/SZfXtz8c2P9Jl9e3PxzY/0mX17c/V9V/VteA2T8=\",\"dtype\":\"float64\",\"order\":\"little\",\"shape\":[28]},\"predictions_k_equals_6\":[4,4,4,4,4,4,4,4,4,4,4,4,4,4,4,4,4,4,4,4,4,4,4,4,4,4,4,4],\"spending_score\":{\"__ndarray__\":\"HK85PmtR/b/PzFlRRnz2v6f4s6xJG/e/QXYi7idW6r9Dg9/iZ7L8v0OD3+Jnsvy/ahA07/ij4b9VUGhjUFnYP+yzXLuu29a/BY6iMNfexL8FjqIw197Ev5wli1s10sw/T16iq3jNnz/YxrmAGtrHP4Feoqt4zb+/+KD/9ULdtb9PXqKreM2fP+yzXLuu29a/BY6iMNfexL/txrmAGtqnv4kE9E2hX9S/86D/9ULd1T+cJYtbNdLMPwWOojDX3sS/J1WL4JPj0b/4oP/1Qt21vxxVi+CT47E/WFBoY1BZ+L8=\",\"dtype\":\"float64\",\"order\":\"little\",\"shape\":[28]}},\"selected\":{\"id\":\"3420\"},\"selection_policy\":{\"id\":\"3444\"}},\"id\":\"3419\",\"type\":\"ColumnDataSource\"},{\"attributes\":{\"click_policy\":\"mute\",\"items\":[{\"id\":\"3345\"},{\"id\":\"3367\"},{\"id\":\"3391\"},{\"id\":\"3417\"},{\"id\":\"3445\"},{\"id\":\"3475\"}],\"location\":[0,0],\"title\":\"predictions k =6\"},\"id\":\"3344\",\"type\":\"Legend\"},{\"attributes\":{\"overlay\":{\"id\":\"3312\"}},\"id\":\"3310\",\"type\":\"BoxZoomTool\"},{\"attributes\":{\"callback\":null,\"renderers\":[{\"id\":\"3332\"},{\"id\":\"3353\"},{\"id\":\"3375\"},{\"id\":\"3399\"},{\"id\":\"3425\"},{\"id\":\"3453\"}],\"tags\":[\"hv_created\"],\"tooltips\":[[\"predictions k =6\",\"@{predictions_k_equals_6}\"],[\"annual_income\",\"@{annual_income}\"],[\"spending_score\",\"@{spending_score}\"]]},\"id\":\"3284\",\"type\":\"HoverTool\"},{\"attributes\":{},\"id\":\"3343\",\"type\":\"UnionRenderers\"},{\"attributes\":{\"fill_color\":{\"value\":\"#17becf\"},\"line_color\":{\"value\":\"#17becf\"},\"size\":{\"value\":5.477225575051661},\"x\":{\"field\":\"annual_income\"},\"y\":{\"field\":\"spending_score\"}},\"id\":\"3450\",\"type\":\"Scatter\"},{\"attributes\":{\"fill_color\":{\"value\":\"#8b8b8b\"},\"line_color\":{\"value\":\"#8b8b8b\"},\"size\":{\"value\":5.477225575051661},\"x\":{\"field\":\"annual_income\"},\"y\":{\"field\":\"spending_score\"}},\"id\":\"3422\",\"type\":\"Scatter\"},{\"attributes\":{\"children\":[{\"id\":\"3281\"},{\"id\":\"3290\"},{\"id\":\"3657\"}],\"margin\":[0,0,0,0],\"name\":\"Row06441\",\"tags\":[\"embedded\"]},\"id\":\"3280\",\"type\":\"Row\"},{\"attributes\":{},\"id\":\"3448\",\"type\":\"Selection\"},{\"attributes\":{},\"id\":\"3474\",\"type\":\"UnionRenderers\"},{\"attributes\":{\"data\":{\"annual_income\":{\"__ndarray__\":\"h9T/LOr9+b+T1r8UO8X4v63bH1iFt/W/vt6/s37i87++3r+zfuLzv8PfnycnRvO/2eMf98jU8L/e5P9qcTjwv9/PP43Vxuy/6tH/dCaO67/1079cd1XqvwDWf0TIHOm/Ftr/E2qr5r8h3L/7unLlvyvef+MLOuS/TOS/mv6P4L9M5L+a/o/gv67M/wSfrt6/rsz/BJ+u3r/F0H/UQD3cv9rU/6Piy9m/2tT/o+LL2b8y5f/haQbQvzLl/+FpBtC/MuX/4WkG0L/m4v+gnmTBvyjW/3/EA7m/+Mz/e5d8rr9f2//vS+OVv1/b/+9L45W/4tD/Dz0krD8c2P9Jl9e3P+Tj/wWIzsA/ttv/ZkSxxT+22/9mRLHFP17L/yi9ds8/Xsv/KL12zz9ey/8ovXbPP4Pdf/UantQ/K81/t5Nj3j+A4j8MKKPhP1/c/1Q1TeU/X9z/VDVN5T9U2j9t5IXmPw==\",\"dtype\":\"float64\",\"order\":\"little\",\"shape\":[44]},\"predictions_k_equals_6\":[2,2,2,2,2,2,2,2,2,2,2,2,2,2,2,2,2,2,2,2,2,2,2,2,2,2,2,2,2,2,2,2,2,2,2,2,2,2,2,2,2,2,2,2],\"spending_score\":{\"__ndarray__\":\"kisrLGF0+7/3oP/1Qt31v2tXhYdkE/y/z8xZUUZ89r8ubwXKE5zmv9/GuYAa2ue/z8xZUUZ89r9GSUs/PJ/0v1J9PxI8EO6/G2jopf/h4r/xzdakLpTrv9jGuYAa2sc/HFWL4JPjsT/J7HML8tbJv99eoqt4zX+/HFWL4JPjsT/zoP/1Qt3VP99eoqt4zX+/+KD/9ULdtb+JBPRNoV/Uv+3GuYAa2qe/nCWLWzXSzD+lEi6WydO7P4kE9E2hX9S/iktF5gzPzr+R8ZaINWHTPwWOojDX3sS/2Ma5gBraxz9OY8UovFfZv4Feoqt4zb+/+KD/9ULdtb/fXqKreM1/v4kE9E2hX9S/J1WL4JPj0b/zoP/1Qt3VPydVi+CT49G/MEIuGyjl0D9OY8UovFfZv5Hxlog1YdM/uv/Q0F3V+r9rV4WHZBP8v7zFPC0ywvK/HnWlmj8+9b8baOil/+Hivw==\",\"dtype\":\"float64\",\"order\":\"little\",\"shape\":[44]}},\"selected\":{\"id\":\"3370\"},\"selection_policy\":{\"id\":\"3390\"}},\"id\":\"3369\",\"type\":\"ColumnDataSource\"},{\"attributes\":{\"label\":{\"value\":\"5\"},\"renderers\":[{\"id\":\"3453\"}]},\"id\":\"3475\",\"type\":\"LegendItem\"},{\"attributes\":{\"data\":{\"annual_income\":{\"__ndarray__\":\"fNI/RZk2+7980j9FmTb7v4LTH7lBmvq/gtMfuUGa+r+H1P8s6v35v43V36CSYfm/jdXfoJJh+b+T1r8UO8X4v5fXn4jjKPi/otlfcDTw9r/D358nJ0bzv8ngf5vPqfK/2eMf98jU8L/e5P9qcTjwv9/PP43Vxuy/9dO/XHdV6r/1079cd1XqvwDWf0TIHOm/ANZ/RMgc6b8A1n9EyBzpvyHcv/u6cuW/QeL/sq3I4b+uzP8En67evzLl/+FpBtC/MuX/4WkG0L/m4v+gnmTBvyjW/3/EA7m/X9v/70vjlb9f2//vS+OVv+LQ/w89JKw/4tD/Dz0krD8c2P9Jl9e3P7bb/2ZEscU/ttv/ZkSxxT9u2f8leQ/XP0LR/4Y18ts/deB/JNfb4j8=\",\"dtype\":\"float64\",\"order\":\"little\",\"shape\":[37]},\"predictions_k_equals_6\":[1,1,1,1,1,1,1,1,1,1,1,1,1,1,1,1,1,1,1,1,1,1,1,1,1,1,1,1,1,1,1,1,1,1,1,1,1],\"spending_score\":{\"__ndarray__\":\"kisrLGF0+791/dYpjaXwP05jxSi8V9m/nNF8zokG8D/U5tM6xjT7P3VEKML4FOs/D8KWA9dP/j91/dYpjaXwPxto6KX/4eK/NpY8qNOw/T/ps1y7rtv2Pyac3Hj/Uuw/16w/l5oh8z8mnNx4/1LsP4hLReYMz+4/t//Q0F3V2j+f3jnDyWLiP4Feoqt4zb+/iQT0TaFf1L+JBPRNoV/UvxNo6KX/4cI/T16iq3jNnz+BXqKreM2/vxxVi+CT47E/MEIuGyjl0D/YxrmAGtrHP1VQaGNQWdg/iQT0TaFf1L/fXqKreM1/v+yzXLuu29a/iQT0TaFf1L8TaOil/+HCP/ig//VC3bW/316iq3jNf79BdiLuJ1bqv8y/nFwGIOS/TmPFKLxX2b8=\",\"dtype\":\"float64\",\"order\":\"little\",\"shape\":[37]}},\"selected\":{\"id\":\"3348\"},\"selection_policy\":{\"id\":\"3366\"}},\"id\":\"3347\",\"type\":\"ColumnDataSource\"},{\"attributes\":{\"label\":{\"value\":\"4\"},\"renderers\":[{\"id\":\"3425\"}]},\"id\":\"3445\",\"type\":\"LegendItem\"},{\"attributes\":{},\"id\":\"3444\",\"type\":\"UnionRenderers\"},{\"attributes\":{\"angle\":{\"value\":0.0},\"fill_alpha\":{\"value\":1.0},\"fill_color\":{\"value\":\"#17becf\"},\"hatch_alpha\":{\"value\":1.0},\"hatch_color\":{\"value\":\"black\"},\"hatch_scale\":{\"value\":12.0},\"hatch_weight\":{\"value\":1.0},\"line_alpha\":{\"value\":1.0},\"line_cap\":{\"value\":\"butt\"},\"line_color\":{\"value\":\"#17becf\"},\"line_dash\":{\"value\":[]},\"line_dash_offset\":{\"value\":0},\"line_join\":{\"value\":\"bevel\"},\"line_width\":{\"value\":1},\"marker\":{\"value\":\"circle\"},\"size\":{\"value\":5.477225575051661},\"x\":{\"field\":\"annual_income\"},\"y\":{\"field\":\"spending_score\"}},\"id\":\"3476\",\"type\":\"Scatter\"},{\"attributes\":{\"fill_color\":{\"value\":\"#fc4f30\"},\"line_color\":{\"value\":\"#fc4f30\"},\"size\":{\"value\":5.477225575051661},\"x\":{\"field\":\"annual_income\"},\"y\":{\"field\":\"spending_score\"}},\"id\":\"3350\",\"type\":\"Scatter\"},{\"attributes\":{\"angle\":{\"value\":0.0},\"fill_alpha\":{\"value\":1.0},\"fill_color\":{\"value\":\"#8b8b8b\"},\"hatch_alpha\":{\"value\":1.0},\"hatch_color\":{\"value\":\"black\"},\"hatch_scale\":{\"value\":12.0},\"hatch_weight\":{\"value\":1.0},\"line_alpha\":{\"value\":1.0},\"line_cap\":{\"value\":\"butt\"},\"line_color\":{\"value\":\"#8b8b8b\"},\"line_dash\":{\"value\":[]},\"line_dash_offset\":{\"value\":0},\"line_join\":{\"value\":\"bevel\"},\"line_width\":{\"value\":1},\"marker\":{\"value\":\"circle\"},\"size\":{\"value\":5.477225575051661},\"x\":{\"field\":\"annual_income\"},\"y\":{\"field\":\"spending_score\"}},\"id\":\"3446\",\"type\":\"Scatter\"},{\"attributes\":{\"fill_color\":{\"value\":\"#6d904f\"},\"line_color\":{\"value\":\"#6d904f\"},\"size\":{\"value\":5.477225575051661},\"x\":{\"field\":\"annual_income\"},\"y\":{\"field\":\"spending_score\"}},\"id\":\"3396\",\"type\":\"Scatter\"}],\"root_ids\":[\"3280\"]},\"title\":\"Bokeh Application\",\"version\":\"2.3.2\"}};\n",
       "    var render_items = [{\"docid\":\"7f5bdbd1-b678-4aa7-b649-b379924077a2\",\"root_ids\":[\"3280\"],\"roots\":{\"3280\":\"1acebb0a-1f39-485e-81bd-7c2f6b8f6419\"}}];\n",
       "    root.Bokeh.embed.embed_items_notebook(docs_json, render_items);\n",
       "  }\n",
       "  if (root.Bokeh !== undefined && root.Bokeh.Panel !== undefined) {\n",
       "    embed_document(root);\n",
       "  } else {\n",
       "    var attempts = 0;\n",
       "    var timer = setInterval(function(root) {\n",
       "      if (root.Bokeh !== undefined && root.Bokeh.Panel !== undefined) {\n",
       "        clearInterval(timer);\n",
       "        embed_document(root);\n",
       "      } else if (document.readyState == \"complete\") {\n",
       "        attempts++;\n",
       "        if (attempts > 200) {\n",
       "          clearInterval(timer);\n",
       "          console.log(\"Bokeh: ERROR: Unable to run BokehJS code because BokehJS library is missing\");\n",
       "        }\n",
       "      }\n",
       "    }, 25, root)\n",
       "  }\n",
       "})(window);</script>"
      ],
      "text/plain": [
       ":NdOverlay   [predictions k =6]\n",
       "   :Scatter   [annual_income]   (spending_score)"
      ]
     },
     "execution_count": 49,
     "metadata": {
      "application/vnd.holoviews_exec.v0+json": {
       "id": "3280"
      }
     },
     "output_type": "execute_result"
    }
   ],
   "source": [
    "shopper_df.hvplot.scatter(x='annual_income',y='spending_score', by='predictions k =6')"
   ]
  },
  {
   "cell_type": "code",
   "execution_count": 51,
   "id": "b7dc1699",
   "metadata": {},
   "outputs": [
    {
     "data": {
      "application/vnd.plotly.v1+json": {
       "config": {
        "plotlyServerURL": "https://plot.ly"
       },
       "data": [
        {
         "hovertemplate": "predictions k =6=%{marker.color}<br>Age=%{x}<br>spending_score=%{y}<br>annual_income=%{z}<extra></extra>",
         "legendgroup": "3",
         "marker": {
          "color": [
           3,
           3,
           3,
           3,
           3,
           3,
           3,
           3,
           3,
           3,
           3,
           3,
           3,
           3,
           3,
           3,
           3,
           3,
           3,
           3,
           3,
           3,
           3
          ],
          "coloraxis": "coloraxis",
          "symbol": "circle"
         },
         "mode": "markers",
         "name": "3",
         "scene": "scene",
         "showlegend": true,
         "type": "scatter3d",
         "x": [
          -1.424568790052139,
          -1.2810354107017978,
          -1.209268721026627,
          -1.3528021003769686,
          -0.2763017552494075,
          -0.9939686520011148,
          -0.5633685139500905,
          -0.706901893300432,
          -0.2763017552494075,
          -1.49633547972731,
          -1.0657353416762856,
          -0.4198351345997489,
          -1.424568790052139,
          -1.49633547972731,
          -1.424568790052139,
          -0.922201962325944,
          -0.0610016862238952,
          -1.49633547972731,
          -1.0657353416762856,
          -1.3528021003769686,
          -0.922201962325944,
          -1.424568790052139,
          -0.8504352726507735
         ],
         "y": [
          -0.4348014799691481,
          1.195704069915157,
          1.118060948492095,
          0.6133806592421909,
          -0.5900877228152724,
          0.8851315842229084,
          0.8851315842229084,
          1.234525630626688,
          0.4192728556845355,
          1.622741237741999,
          1.622741237741999,
          0.3804512949730044,
          0.186343491415349,
          0.3416297342614733,
          0.3416297342614733,
          0.1475219307038179,
          0.186343491415349,
          -0.357158358546086,
          0.0698788092807558,
          -0.0465858728538374,
          0.186343491415349,
          -0.1630505549884306,
          0.2251650521268801
         ],
         "z": [
          -1.7389991930659483,
          -1.7389991930659483,
          -1.5481520472070869,
          -1.5099826180353142,
          -1.3954743305199973,
          -1.3954743305199973,
          -1.3573049013482248,
          -1.2427966138329078,
          -1.2427966138329078,
          -1.051949467974046,
          -0.8611023221151843,
          -0.7084246054280949,
          -0.5557468887410054,
          -0.4794080303974607,
          -0.4794080303974607,
          -0.2503914553668266,
          -0.2503914553668266,
          -0.0595443095079648,
          -0.0213748803361925,
          0.0167945488355798,
          0.0549639780073521,
          0.1313028363508969,
          0.2458111238662139
         ]
        },
        {
         "hovertemplate": "predictions k =6=%{marker.color}<br>Age=%{x}<br>spending_score=%{y}<br>annual_income=%{z}<extra></extra>",
         "legendgroup": "1",
         "marker": {
          "color": [
           1,
           1,
           1,
           1,
           1,
           1,
           1,
           1,
           1,
           1,
           1,
           1,
           1,
           1,
           1,
           1,
           1,
           1,
           1,
           1,
           1,
           1,
           1,
           1,
           1,
           1,
           1,
           1,
           1,
           1,
           1,
           1,
           1,
           1,
           1,
           1,
           1
          ],
          "coloraxis": "coloraxis",
          "symbol": "diamond"
         },
         "mode": "markers",
         "name": "1",
         "scene": "scene",
         "showlegend": true,
         "type": "scatter3d",
         "x": [
          -1.3528021003769686,
          -1.1375020313514563,
          -0.5633685139500905,
          -1.209268721026627,
          -1.1375020313514563,
          -0.6351352036252612,
          -0.2763017552494075,
          -1.0657353416762856,
          -0.2763017552494075,
          -0.2763017552494075,
          -1.1375020313514563,
          -1.2810354107017978,
          -1.2810354107017978,
          -0.6351352036252612,
          -1.3528021003769686,
          -0.5633685139500905,
          -1.0657353416762856,
          -0.8504352726507735,
          -0.706901893300432,
          -0.5633685139500905,
          -0.5633685139500905,
          -0.8504352726507735,
          -0.4916018242749196,
          -1.1375020313514563,
          -1.2810354107017978,
          -1.209268721026627,
          -0.3480684449245782,
          -0.4916018242749196,
          -0.8504352726507735,
          -1.1375020313514563,
          -1.2810354107017978,
          -1.424568790052139,
          -1.49633547972731,
          -1.424568790052139,
          -1.1375020313514563,
          -0.9939686520011148,
          -0.7786685829756027
         ],
         "y": [
          -1.7159129834496736,
          1.0404178270690327,
          -0.3959799192576171,
          1.0015962663575015,
          1.700384359165061,
          0.8463100235113773,
          1.8944921627227165,
          1.0404178270690327,
          -0.5900877228152724,
          1.8556706020111853,
          1.4286334341843434,
          0.8851315842229084,
          1.195704069915157,
          0.8851315842229084,
          0.9627747056459706,
          0.4192728556845355,
          0.5745590985306598,
          -0.1242289942768995,
          -0.3183367978345549,
          -0.3183367978345549,
          0.1475219307038179,
          0.0310572485692247,
          -0.1242289942768995,
          0.0698788092807558,
          0.2639866128384112,
          0.186343491415349,
          0.3804512949730044,
          -0.3183367978345549,
          -0.0077643121423063,
          -0.357158358546086,
          -0.3183367978345549,
          0.1475219307038179,
          -0.0854074335653684,
          -0.0077643121423063,
          -0.823017087084459,
          -0.6289092835268035,
          -0.3959799192576171
         ],
         "z": [
          -1.700829763894176,
          -1.700829763894176,
          -1.6626603347224038,
          -1.6626603347224038,
          -1.6244909055506314,
          -1.5863214763788591,
          -1.5863214763788591,
          -1.5481520472070869,
          -1.5099826180353142,
          -1.4336437596917695,
          -1.2046271846611354,
          -1.1664577554893631,
          -1.051949467974046,
          -1.0137800388022735,
          -0.8992717512869567,
          -0.822932892943412,
          -0.822932892943412,
          -0.7847634637716396,
          -0.7847634637716396,
          -0.7847634637716396,
          -0.6702551762563226,
          -0.5557468887410054,
          -0.4794080303974607,
          -0.2503914553668266,
          -0.2503914553668266,
          -0.1358831678515095,
          -0.0977137386797372,
          -0.0213748803361925,
          -0.0213748803361925,
          0.0549639780073521,
          0.0549639780073521,
          0.0931334071791245,
          0.1694722655226692,
          0.1694722655226692,
          0.360319411381531,
          0.4366582697250757,
          0.5893359864121651
         ]
        },
        {
         "hovertemplate": "predictions k =6=%{marker.color}<br>Age=%{x}<br>spending_score=%{y}<br>annual_income=%{z}<extra></extra>",
         "legendgroup": "2",
         "marker": {
          "color": [
           2,
           2,
           2,
           2,
           2,
           2,
           2,
           2,
           2,
           2,
           2,
           2,
           2,
           2,
           2,
           2,
           2,
           2,
           2,
           2,
           2,
           2,
           2,
           2,
           2,
           2,
           2,
           2,
           2,
           2,
           2,
           2,
           2,
           2,
           2,
           2,
           2,
           2,
           2,
           2,
           2,
           2,
           2,
           2
          ],
          "coloraxis": "coloraxis",
          "symbol": "square"
         },
         "mode": "markers",
         "name": "2",
         "scene": "scene",
         "showlegend": true,
         "type": "scatter3d",
         "x": [
          -0.2763017552494075,
          1.3743321072795196,
          0.5131318311774707,
          1.0872653485788366,
          0.4413651415022999,
          0.0825316931264462,
          0.728431900202983,
          0.2260650724767877,
          -0.2045350655742367,
          1.8766989350057148,
          0.728431900202983,
          0.8001985898781537,
          0.728431900202983,
          0.8001985898781537,
          0.8719652795533244,
          2.0202323143560563,
          1.0872653485788366,
          0.2978317621519585,
          2.091999004031227,
          0.5848985208526415,
          1.517865486629861,
          1.517865486629861,
          0.4413651415022999,
          0.728431900202983,
          0.5131318311774707,
          1.1590320382540074,
          0.8001985898781537,
          2.091999004031227,
          0.0825316931264462,
          0.5848985208526415,
          0.728431900202983,
          1.9484656246808856,
          -0.0610016862238952,
          1.7331655556553731,
          0.728431900202983,
          0.8719652795533244,
          0.8001985898781537,
          -0.0610016862238952,
          0.0825316931264462,
          0.3695984518271292,
          1.3025654176043489,
          0.3695984518271292,
          0.5848985208526415,
          1.230798727929178
         ],
         "y": [
          -1.7159129834496736,
          -1.366518937045894,
          -1.7547345441612048,
          -1.405340497757425,
          -0.7065524049498657,
          -0.7453739656613968,
          -1.405340497757425,
          -1.288875815622832,
          -0.939481769219052,
          -0.5900877228152724,
          -0.86183864779599,
          0.186343491415349,
          0.0698788092807558,
          -0.2018721156999617,
          -0.0077643121423063,
          0.0698788092807558,
          0.3416297342614733,
          -0.0077643121423063,
          -0.0854074335653684,
          -0.3183367978345549,
          -0.0465858728538374,
          0.2251650521268801,
          0.1087003699922869,
          -0.3183367978345549,
          -0.2406936764114927,
          0.3028081735499422,
          -0.1630505549884306,
          0.186343491415349,
          -0.3959799192576171,
          -0.1242289942768995,
          -0.0854074335653684,
          -0.0077643121423063,
          -0.3183367978345549,
          -0.2795152371230238,
          0.3416297342614733,
          -0.2795152371230238,
          0.2639866128384112,
          -0.3959799192576171,
          0.3028081735499422,
          -1.6770914227381426,
          -1.7547345441612048,
          -1.1724111334882386,
          -1.327697376334363,
          -0.5900877228152724
         ],
         "z": [
          -1.6244909055506314,
          -1.5481520472070869,
          -1.3573049013482248,
          -1.2427966138329078,
          -1.2427966138329078,
          -1.2046271846611354,
          -1.051949467974046,
          -1.0137800388022735,
          -0.8992717512869567,
          -0.8611023221151843,
          -0.822932892943412,
          -0.7847634637716396,
          -0.7084246054280949,
          -0.6702551762563226,
          -0.6320857470845501,
          -0.5175774595692331,
          -0.5175774595692331,
          -0.4794080303974607,
          -0.4794080303974607,
          -0.4412386012256884,
          -0.403069172053916,
          -0.403069172053916,
          -0.2503914553668266,
          -0.2503914553668266,
          -0.2503914553668266,
          -0.1358831678515095,
          -0.0977137386797372,
          -0.0595443095079648,
          -0.0213748803361925,
          -0.0213748803361925,
          0.0549639780073521,
          0.0931334071791245,
          0.1313028363508969,
          0.1694722655226692,
          0.1694722655226692,
          0.2458111238662139,
          0.2458111238662139,
          0.2458111238662139,
          0.3221499822097586,
          0.474827698896848,
          0.5511665572403928,
          0.6656748447557098,
          0.6656748447557098,
          0.7038442739274822
         ]
        },
        {
         "hovertemplate": "predictions k =6=%{marker.color}<br>Age=%{x}<br>spending_score=%{y}<br>annual_income=%{z}<extra></extra>",
         "legendgroup": "4",
         "marker": {
          "color": [
           4,
           4,
           4,
           4,
           4,
           4,
           4,
           4,
           4,
           4,
           4,
           4,
           4,
           4,
           4,
           4,
           4,
           4,
           4,
           4,
           4,
           4,
           4,
           4,
           4,
           4,
           4,
           4
          ],
          "coloraxis": "coloraxis",
          "symbol": "x"
         },
         "mode": "markers",
         "name": "4",
         "scene": "scene",
         "showlegend": true,
         "type": "scatter3d",
         "x": [
          1.804932245330544,
          2.0202323143560563,
          -0.1327683758990659,
          0.9437319692284952,
          1.517865486629861,
          1.015498658903666,
          0.6566652105278122,
          1.4460987969546903,
          0.5848985208526415,
          2.163765693706398,
          1.015498658903666,
          2.2355323833815683,
          1.7331655556553731,
          2.2355323833815683,
          1.4460987969546903,
          0.0825316931264462,
          1.3025654176043489,
          2.0202323143560563,
          0.6566652105278122,
          0.6566652105278122,
          0.6566652105278122,
          2.0202323143560563,
          0.728431900202983,
          1.0872653485788366,
          2.091999004031227,
          1.9484656246808856,
          1.8766989350057148,
          1.4460987969546903
         ],
         "y": [
          -1.832377665584267,
          -1.405340497757425,
          -1.444162058468956,
          -0.823017087084459,
          -1.7935561048727358,
          -1.7935561048727358,
          -0.5512661621037414,
          0.3804512949730044,
          -0.357158358546086,
          -0.1630505549884306,
          -0.1630505549884306,
          0.2251650521268801,
          0.0310572485692247,
          0.186343491415349,
          -0.1242289942768995,
          -0.0854074335653684,
          0.0310572485692247,
          -0.357158358546086,
          -0.1630505549884306,
          -0.0465858728538374,
          -0.3183367978345549,
          0.3416297342614733,
          0.2251650521268801,
          -0.1630505549884306,
          -0.2795152371230238,
          -0.0854074335653684,
          0.0698788092807558,
          -1.5218051798920182
         ],
         "z": [
          -1.5863214763788591,
          -1.5863214763788591,
          -1.5481520472070869,
          -1.4336437596917695,
          -1.1664577554893631,
          -1.051949467974046,
          -0.822932892943412,
          -0.6702551762563226,
          -0.6702551762563226,
          -0.6320857470845501,
          -0.5557468887410054,
          -0.5557468887410054,
          -0.4794080303974607,
          -0.4412386012256884,
          -0.2503914553668266,
          -0.2503914553668266,
          -0.2503914553668266,
          -0.2503914553668266,
          -0.2503914553668266,
          -0.0213748803361925,
          0.0167945488355798,
          0.0549639780073521,
          0.0549639780073521,
          0.0931334071791245,
          0.0931334071791245,
          0.0931334071791245,
          0.0931334071791245,
          0.3984888405533033
         ]
        },
        {
         "hovertemplate": "predictions k =6=%{marker.color}<br>Age=%{x}<br>spending_score=%{y}<br>annual_income=%{z}<extra></extra>",
         "legendgroup": "5",
         "marker": {
          "color": [
           5,
           5,
           5,
           5,
           5,
           5,
           5,
           5,
           5,
           5,
           5,
           5,
           5,
           5,
           5,
           5,
           5,
           5,
           5,
           5,
           5,
           5,
           5,
           5,
           5,
           5,
           5,
           5,
           5,
           5,
           5,
           5,
           5,
           5,
           5,
           5,
           5,
           5,
           5
          ],
          "coloraxis": "coloraxis",
          "symbol": "cross"
         },
         "mode": "markers",
         "name": "5",
         "scene": "scene",
         "showlegend": true,
         "type": "scatter3d",
         "x": [
          0.0107650034512755,
          -0.5633685139500905,
          0.0825316931264462,
          -0.0610016862238952,
          0.0107650034512755,
          -0.5633685139500905,
          -0.706901893300432,
          -0.4916018242749196,
          -0.2763017552494075,
          -0.4916018242749196,
          -0.4916018242749196,
          -0.7786685829756027,
          -0.4916018242749196,
          -0.3480684449245782,
          0.0107650034512755,
          -0.0610016862238952,
          -0.8504352726507735,
          -0.6351352036252612,
          -0.6351352036252612,
          -0.706901893300432,
          -0.5633685139500905,
          -0.2045350655742367,
          -0.4198351345997489,
          -0.4916018242749196,
          -0.7786685829756027,
          -0.2045350655742367,
          -0.6351352036252612,
          -0.8504352726507735,
          -0.2763017552494075,
          -0.4916018242749196,
          -0.706901893300432,
          -0.6351352036252612,
          -0.7786685829756027,
          -0.2045350655742367,
          -0.4916018242749196,
          -0.0610016862238952,
          -0.2763017552494075,
          -0.4916018242749196,
          -0.6351352036252612
         ],
         "y": [
          1.5839196770304678,
          1.0404178270690327,
          1.739205919876592,
          0.9627747056459706,
          0.9627747056459706,
          0.8074884627998463,
          1.4674549948958746,
          0.8851315842229084,
          0.8463100235113773,
          1.66156279845353,
          1.4286334341843434,
          1.8168490412996543,
          0.9239531449344396,
          1.5450981163189368,
          1.4674549948958746,
          1.0015962663575015,
          1.5062765556074056,
          1.0792393877805635,
          0.8851315842229084,
          1.2733471913382193,
          1.66156279845353,
          0.9627747056459706,
          1.739205919876592,
          0.4969159771075976,
          0.9627747056459706,
          1.622741237741999,
          1.3898118734728124,
          0.7298453413767841,
          1.5450981163189368,
          1.3898118734728124,
          1.4674549948958746,
          1.8168490412996543,
          0.691023780665253,
          1.3509903127612812,
          0.7298453413767841,
          1.5839196770304678,
          1.118060948492095,
          0.9239531449344396,
          1.2733471913382193
         ],
         "z": [
          0.3221499822097586,
          0.360319411381531,
          0.3984888405533033,
          0.3984888405533033,
          0.3984888405533033,
          0.4366582697250757,
          0.474827698896848,
          0.474827698896848,
          0.5129971280686204,
          0.5511665572403928,
          0.5893359864121651,
          0.6275054155839375,
          0.6275054155839375,
          0.6656748447557098,
          0.6656748447557098,
          0.6656748447557098,
          0.6656748447557098,
          0.6656748447557098,
          0.6656748447557098,
          0.7038442739274822,
          0.7801831322710269,
          0.9328608489581164,
          0.9710302781298886,
          1.009199707301661,
          1.009199707301661,
          1.009199707301661,
          1.0473691364734334,
          1.0473691364734334,
          1.238216282332295,
          1.3908939990193845,
          1.429063428191157,
          1.4672328573629292,
          1.543571715706474,
          1.6199105740500186,
          1.6199105740500186,
          2.0016048657677423,
          2.268790869970149,
          2.4978074450007828,
          2.9176711658902788
         ]
        },
        {
         "hovertemplate": "predictions k =6=%{marker.color}<br>Age=%{x}<br>spending_score=%{y}<br>annual_income=%{z}<extra></extra>",
         "legendgroup": "0",
         "marker": {
          "color": [
           0,
           0,
           0,
           0,
           0,
           0,
           0,
           0,
           0,
           0,
           0,
           0,
           0,
           0,
           0,
           0,
           0,
           0,
           0,
           0,
           0,
           0,
           0,
           0,
           0,
           0,
           0,
           0,
           0
          ],
          "coloraxis": "coloraxis",
          "symbol": "circle"
         },
         "mode": "markers",
         "name": "0",
         "scene": "scene",
         "showlegend": true,
         "type": "scatter3d",
         "x": [
          0.2978317621519585,
          0.5848985208526415,
          -1.3528021003769686,
          -1.424568790052139,
          -0.9939686520011148,
          0.6566652105278122,
          -0.3480684449245782,
          0.2978317621519585,
          -0.1327683758990659,
          -0.3480684449245782,
          -1.424568790052139,
          0.8001985898781537,
          0.2260650724767877,
          -0.2045350655742367,
          0.0825316931264462,
          -0.2045350655742367,
          0.9437319692284952,
          1.3743321072795196,
          1.4460987969546903,
          -0.1327683758990659,
          0.5131318311774707,
          0.154298382801617,
          1.0872653485788366,
          0.154298382801617,
          -0.3480684449245782,
          -0.4198351345997489,
          0.5848985208526415,
          0.4413651415022999,
          -0.4916018242749196
         ],
         "y": [
          -0.5900877228152724,
          -1.5994483013150804,
          -1.7547345441612048,
          -1.5606267406035494,
          -1.4829836191804873,
          -0.5512661621037414,
          -1.0947680120651764,
          -1.288875815622832,
          -1.9100207870073287,
          -1.9100207870073287,
          -1.7547345441612048,
          -0.939481769219052,
          -1.1724111334882386,
          -0.900660208507521,
          -1.444162058468956,
          -1.5606267406035494,
          -1.444162058468956,
          -1.366518937045894,
          -1.405340497757425,
          -0.7065524049498657,
          -1.366518937045894,
          -0.4348014799691481,
          -1.0171248906421142,
          -1.288875815622832,
          -1.0559464513536454,
          -1.6382698620266116,
          -1.327697376334363,
          -0.86183864779599,
          -1.2500542549113007
         ],
         "z": [
          0.3984888405533033,
          0.3984888405533033,
          0.474827698896848,
          0.5129971280686204,
          0.6275054155839375,
          0.6275054155839375,
          0.6656748447557098,
          0.6656748447557098,
          0.6656748447557098,
          0.6656748447557098,
          0.7801831322710269,
          0.9328608489581164,
          0.9710302781298886,
          1.009199707301661,
          1.009199707301661,
          1.009199707301661,
          1.0473691364734334,
          1.0473691364734334,
          1.238216282332295,
          1.3908939990193845,
          1.429063428191157,
          1.4672328573629292,
          1.543571715706474,
          1.6199105740500186,
          1.6199105740500186,
          2.0016048657677423,
          2.268790869970149,
          2.4978074450007828,
          2.9176711658902788
         ]
        }
       ],
       "layout": {
        "coloraxis": {
         "colorbar": {
          "title": {
           "text": "predictions k =6"
          }
         },
         "colorscale": [
          [
           0,
           "#0d0887"
          ],
          [
           0.1111111111111111,
           "#46039f"
          ],
          [
           0.2222222222222222,
           "#7201a8"
          ],
          [
           0.3333333333333333,
           "#9c179e"
          ],
          [
           0.4444444444444444,
           "#bd3786"
          ],
          [
           0.5555555555555556,
           "#d8576b"
          ],
          [
           0.6666666666666666,
           "#ed7953"
          ],
          [
           0.7777777777777778,
           "#fb9f3a"
          ],
          [
           0.8888888888888888,
           "#fdca26"
          ],
          [
           1,
           "#f0f921"
          ]
         ]
        },
        "legend": {
         "title": {
          "text": "predictions k =6"
         },
         "tracegroupgap": 0,
         "x": 0,
         "y": 1
        },
        "margin": {
         "t": 60
        },
        "scene": {
         "domain": {
          "x": [
           0,
           1
          ],
          "y": [
           0,
           1
          ]
         },
         "xaxis": {
          "title": {
           "text": "Age"
          }
         },
         "yaxis": {
          "title": {
           "text": "spending_score"
          }
         },
         "zaxis": {
          "title": {
           "text": "annual_income"
          }
         }
        },
        "template": {
         "data": {
          "bar": [
           {
            "error_x": {
             "color": "#2a3f5f"
            },
            "error_y": {
             "color": "#2a3f5f"
            },
            "marker": {
             "line": {
              "color": "#E5ECF6",
              "width": 0.5
             },
             "pattern": {
              "fillmode": "overlay",
              "size": 10,
              "solidity": 0.2
             }
            },
            "type": "bar"
           }
          ],
          "barpolar": [
           {
            "marker": {
             "line": {
              "color": "#E5ECF6",
              "width": 0.5
             },
             "pattern": {
              "fillmode": "overlay",
              "size": 10,
              "solidity": 0.2
             }
            },
            "type": "barpolar"
           }
          ],
          "carpet": [
           {
            "aaxis": {
             "endlinecolor": "#2a3f5f",
             "gridcolor": "white",
             "linecolor": "white",
             "minorgridcolor": "white",
             "startlinecolor": "#2a3f5f"
            },
            "baxis": {
             "endlinecolor": "#2a3f5f",
             "gridcolor": "white",
             "linecolor": "white",
             "minorgridcolor": "white",
             "startlinecolor": "#2a3f5f"
            },
            "type": "carpet"
           }
          ],
          "choropleth": [
           {
            "colorbar": {
             "outlinewidth": 0,
             "ticks": ""
            },
            "type": "choropleth"
           }
          ],
          "contour": [
           {
            "colorbar": {
             "outlinewidth": 0,
             "ticks": ""
            },
            "colorscale": [
             [
              0,
              "#0d0887"
             ],
             [
              0.1111111111111111,
              "#46039f"
             ],
             [
              0.2222222222222222,
              "#7201a8"
             ],
             [
              0.3333333333333333,
              "#9c179e"
             ],
             [
              0.4444444444444444,
              "#bd3786"
             ],
             [
              0.5555555555555556,
              "#d8576b"
             ],
             [
              0.6666666666666666,
              "#ed7953"
             ],
             [
              0.7777777777777778,
              "#fb9f3a"
             ],
             [
              0.8888888888888888,
              "#fdca26"
             ],
             [
              1,
              "#f0f921"
             ]
            ],
            "type": "contour"
           }
          ],
          "contourcarpet": [
           {
            "colorbar": {
             "outlinewidth": 0,
             "ticks": ""
            },
            "type": "contourcarpet"
           }
          ],
          "heatmap": [
           {
            "colorbar": {
             "outlinewidth": 0,
             "ticks": ""
            },
            "colorscale": [
             [
              0,
              "#0d0887"
             ],
             [
              0.1111111111111111,
              "#46039f"
             ],
             [
              0.2222222222222222,
              "#7201a8"
             ],
             [
              0.3333333333333333,
              "#9c179e"
             ],
             [
              0.4444444444444444,
              "#bd3786"
             ],
             [
              0.5555555555555556,
              "#d8576b"
             ],
             [
              0.6666666666666666,
              "#ed7953"
             ],
             [
              0.7777777777777778,
              "#fb9f3a"
             ],
             [
              0.8888888888888888,
              "#fdca26"
             ],
             [
              1,
              "#f0f921"
             ]
            ],
            "type": "heatmap"
           }
          ],
          "heatmapgl": [
           {
            "colorbar": {
             "outlinewidth": 0,
             "ticks": ""
            },
            "colorscale": [
             [
              0,
              "#0d0887"
             ],
             [
              0.1111111111111111,
              "#46039f"
             ],
             [
              0.2222222222222222,
              "#7201a8"
             ],
             [
              0.3333333333333333,
              "#9c179e"
             ],
             [
              0.4444444444444444,
              "#bd3786"
             ],
             [
              0.5555555555555556,
              "#d8576b"
             ],
             [
              0.6666666666666666,
              "#ed7953"
             ],
             [
              0.7777777777777778,
              "#fb9f3a"
             ],
             [
              0.8888888888888888,
              "#fdca26"
             ],
             [
              1,
              "#f0f921"
             ]
            ],
            "type": "heatmapgl"
           }
          ],
          "histogram": [
           {
            "marker": {
             "pattern": {
              "fillmode": "overlay",
              "size": 10,
              "solidity": 0.2
             }
            },
            "type": "histogram"
           }
          ],
          "histogram2d": [
           {
            "colorbar": {
             "outlinewidth": 0,
             "ticks": ""
            },
            "colorscale": [
             [
              0,
              "#0d0887"
             ],
             [
              0.1111111111111111,
              "#46039f"
             ],
             [
              0.2222222222222222,
              "#7201a8"
             ],
             [
              0.3333333333333333,
              "#9c179e"
             ],
             [
              0.4444444444444444,
              "#bd3786"
             ],
             [
              0.5555555555555556,
              "#d8576b"
             ],
             [
              0.6666666666666666,
              "#ed7953"
             ],
             [
              0.7777777777777778,
              "#fb9f3a"
             ],
             [
              0.8888888888888888,
              "#fdca26"
             ],
             [
              1,
              "#f0f921"
             ]
            ],
            "type": "histogram2d"
           }
          ],
          "histogram2dcontour": [
           {
            "colorbar": {
             "outlinewidth": 0,
             "ticks": ""
            },
            "colorscale": [
             [
              0,
              "#0d0887"
             ],
             [
              0.1111111111111111,
              "#46039f"
             ],
             [
              0.2222222222222222,
              "#7201a8"
             ],
             [
              0.3333333333333333,
              "#9c179e"
             ],
             [
              0.4444444444444444,
              "#bd3786"
             ],
             [
              0.5555555555555556,
              "#d8576b"
             ],
             [
              0.6666666666666666,
              "#ed7953"
             ],
             [
              0.7777777777777778,
              "#fb9f3a"
             ],
             [
              0.8888888888888888,
              "#fdca26"
             ],
             [
              1,
              "#f0f921"
             ]
            ],
            "type": "histogram2dcontour"
           }
          ],
          "mesh3d": [
           {
            "colorbar": {
             "outlinewidth": 0,
             "ticks": ""
            },
            "type": "mesh3d"
           }
          ],
          "parcoords": [
           {
            "line": {
             "colorbar": {
              "outlinewidth": 0,
              "ticks": ""
             }
            },
            "type": "parcoords"
           }
          ],
          "pie": [
           {
            "automargin": true,
            "type": "pie"
           }
          ],
          "scatter": [
           {
            "marker": {
             "colorbar": {
              "outlinewidth": 0,
              "ticks": ""
             }
            },
            "type": "scatter"
           }
          ],
          "scatter3d": [
           {
            "line": {
             "colorbar": {
              "outlinewidth": 0,
              "ticks": ""
             }
            },
            "marker": {
             "colorbar": {
              "outlinewidth": 0,
              "ticks": ""
             }
            },
            "type": "scatter3d"
           }
          ],
          "scattercarpet": [
           {
            "marker": {
             "colorbar": {
              "outlinewidth": 0,
              "ticks": ""
             }
            },
            "type": "scattercarpet"
           }
          ],
          "scattergeo": [
           {
            "marker": {
             "colorbar": {
              "outlinewidth": 0,
              "ticks": ""
             }
            },
            "type": "scattergeo"
           }
          ],
          "scattergl": [
           {
            "marker": {
             "colorbar": {
              "outlinewidth": 0,
              "ticks": ""
             }
            },
            "type": "scattergl"
           }
          ],
          "scattermapbox": [
           {
            "marker": {
             "colorbar": {
              "outlinewidth": 0,
              "ticks": ""
             }
            },
            "type": "scattermapbox"
           }
          ],
          "scatterpolar": [
           {
            "marker": {
             "colorbar": {
              "outlinewidth": 0,
              "ticks": ""
             }
            },
            "type": "scatterpolar"
           }
          ],
          "scatterpolargl": [
           {
            "marker": {
             "colorbar": {
              "outlinewidth": 0,
              "ticks": ""
             }
            },
            "type": "scatterpolargl"
           }
          ],
          "scatterternary": [
           {
            "marker": {
             "colorbar": {
              "outlinewidth": 0,
              "ticks": ""
             }
            },
            "type": "scatterternary"
           }
          ],
          "surface": [
           {
            "colorbar": {
             "outlinewidth": 0,
             "ticks": ""
            },
            "colorscale": [
             [
              0,
              "#0d0887"
             ],
             [
              0.1111111111111111,
              "#46039f"
             ],
             [
              0.2222222222222222,
              "#7201a8"
             ],
             [
              0.3333333333333333,
              "#9c179e"
             ],
             [
              0.4444444444444444,
              "#bd3786"
             ],
             [
              0.5555555555555556,
              "#d8576b"
             ],
             [
              0.6666666666666666,
              "#ed7953"
             ],
             [
              0.7777777777777778,
              "#fb9f3a"
             ],
             [
              0.8888888888888888,
              "#fdca26"
             ],
             [
              1,
              "#f0f921"
             ]
            ],
            "type": "surface"
           }
          ],
          "table": [
           {
            "cells": {
             "fill": {
              "color": "#EBF0F8"
             },
             "line": {
              "color": "white"
             }
            },
            "header": {
             "fill": {
              "color": "#C8D4E3"
             },
             "line": {
              "color": "white"
             }
            },
            "type": "table"
           }
          ]
         },
         "layout": {
          "annotationdefaults": {
           "arrowcolor": "#2a3f5f",
           "arrowhead": 0,
           "arrowwidth": 1
          },
          "autotypenumbers": "strict",
          "coloraxis": {
           "colorbar": {
            "outlinewidth": 0,
            "ticks": ""
           }
          },
          "colorscale": {
           "diverging": [
            [
             0,
             "#8e0152"
            ],
            [
             0.1,
             "#c51b7d"
            ],
            [
             0.2,
             "#de77ae"
            ],
            [
             0.3,
             "#f1b6da"
            ],
            [
             0.4,
             "#fde0ef"
            ],
            [
             0.5,
             "#f7f7f7"
            ],
            [
             0.6,
             "#e6f5d0"
            ],
            [
             0.7,
             "#b8e186"
            ],
            [
             0.8,
             "#7fbc41"
            ],
            [
             0.9,
             "#4d9221"
            ],
            [
             1,
             "#276419"
            ]
           ],
           "sequential": [
            [
             0,
             "#0d0887"
            ],
            [
             0.1111111111111111,
             "#46039f"
            ],
            [
             0.2222222222222222,
             "#7201a8"
            ],
            [
             0.3333333333333333,
             "#9c179e"
            ],
            [
             0.4444444444444444,
             "#bd3786"
            ],
            [
             0.5555555555555556,
             "#d8576b"
            ],
            [
             0.6666666666666666,
             "#ed7953"
            ],
            [
             0.7777777777777778,
             "#fb9f3a"
            ],
            [
             0.8888888888888888,
             "#fdca26"
            ],
            [
             1,
             "#f0f921"
            ]
           ],
           "sequentialminus": [
            [
             0,
             "#0d0887"
            ],
            [
             0.1111111111111111,
             "#46039f"
            ],
            [
             0.2222222222222222,
             "#7201a8"
            ],
            [
             0.3333333333333333,
             "#9c179e"
            ],
            [
             0.4444444444444444,
             "#bd3786"
            ],
            [
             0.5555555555555556,
             "#d8576b"
            ],
            [
             0.6666666666666666,
             "#ed7953"
            ],
            [
             0.7777777777777778,
             "#fb9f3a"
            ],
            [
             0.8888888888888888,
             "#fdca26"
            ],
            [
             1,
             "#f0f921"
            ]
           ]
          },
          "colorway": [
           "#636efa",
           "#EF553B",
           "#00cc96",
           "#ab63fa",
           "#FFA15A",
           "#19d3f3",
           "#FF6692",
           "#B6E880",
           "#FF97FF",
           "#FECB52"
          ],
          "font": {
           "color": "#2a3f5f"
          },
          "geo": {
           "bgcolor": "white",
           "lakecolor": "white",
           "landcolor": "#E5ECF6",
           "showlakes": true,
           "showland": true,
           "subunitcolor": "white"
          },
          "hoverlabel": {
           "align": "left"
          },
          "hovermode": "closest",
          "mapbox": {
           "style": "light"
          },
          "paper_bgcolor": "white",
          "plot_bgcolor": "#E5ECF6",
          "polar": {
           "angularaxis": {
            "gridcolor": "white",
            "linecolor": "white",
            "ticks": ""
           },
           "bgcolor": "#E5ECF6",
           "radialaxis": {
            "gridcolor": "white",
            "linecolor": "white",
            "ticks": ""
           }
          },
          "scene": {
           "xaxis": {
            "backgroundcolor": "#E5ECF6",
            "gridcolor": "white",
            "gridwidth": 2,
            "linecolor": "white",
            "showbackground": true,
            "ticks": "",
            "zerolinecolor": "white"
           },
           "yaxis": {
            "backgroundcolor": "#E5ECF6",
            "gridcolor": "white",
            "gridwidth": 2,
            "linecolor": "white",
            "showbackground": true,
            "ticks": "",
            "zerolinecolor": "white"
           },
           "zaxis": {
            "backgroundcolor": "#E5ECF6",
            "gridcolor": "white",
            "gridwidth": 2,
            "linecolor": "white",
            "showbackground": true,
            "ticks": "",
            "zerolinecolor": "white"
           }
          },
          "shapedefaults": {
           "line": {
            "color": "#2a3f5f"
           }
          },
          "ternary": {
           "aaxis": {
            "gridcolor": "white",
            "linecolor": "white",
            "ticks": ""
           },
           "baxis": {
            "gridcolor": "white",
            "linecolor": "white",
            "ticks": ""
           },
           "bgcolor": "#E5ECF6",
           "caxis": {
            "gridcolor": "white",
            "linecolor": "white",
            "ticks": ""
           }
          },
          "title": {
           "x": 0.05
          },
          "xaxis": {
           "automargin": true,
           "gridcolor": "white",
           "linecolor": "white",
           "ticks": "",
           "title": {
            "standoff": 15
           },
           "zerolinecolor": "white",
           "zerolinewidth": 2
          },
          "yaxis": {
           "automargin": true,
           "gridcolor": "white",
           "linecolor": "white",
           "ticks": "",
           "title": {
            "standoff": 15
           },
           "zerolinecolor": "white",
           "zerolinewidth": 2
          }
         }
        },
        "width": 800
       }
      },
      "text/html": [
       "<div>                            <div id=\"bd68f245-2a93-4ef8-9b51-b8bafaa82715\" class=\"plotly-graph-div\" style=\"height:525px; width:800px;\"></div>            <script type=\"text/javascript\">                require([\"plotly\"], function(Plotly) {                    window.PLOTLYENV=window.PLOTLYENV || {};                                    if (document.getElementById(\"bd68f245-2a93-4ef8-9b51-b8bafaa82715\")) {                    Plotly.newPlot(                        \"bd68f245-2a93-4ef8-9b51-b8bafaa82715\",                        [{\"hovertemplate\":\"predictions k =6=%{marker.color}<br>Age=%{x}<br>spending_score=%{y}<br>annual_income=%{z}<extra></extra>\",\"legendgroup\":\"3\",\"marker\":{\"color\":[3,3,3,3,3,3,3,3,3,3,3,3,3,3,3,3,3,3,3,3,3,3,3],\"coloraxis\":\"coloraxis\",\"symbol\":\"circle\"},\"mode\":\"markers\",\"name\":\"3\",\"scene\":\"scene\",\"showlegend\":true,\"type\":\"scatter3d\",\"x\":[-1.424568790052139,-1.2810354107017978,-1.209268721026627,-1.3528021003769686,-0.2763017552494075,-0.9939686520011148,-0.5633685139500905,-0.706901893300432,-0.2763017552494075,-1.49633547972731,-1.0657353416762856,-0.4198351345997489,-1.424568790052139,-1.49633547972731,-1.424568790052139,-0.922201962325944,-0.0610016862238952,-1.49633547972731,-1.0657353416762856,-1.3528021003769686,-0.922201962325944,-1.424568790052139,-0.8504352726507735],\"y\":[-0.4348014799691481,1.195704069915157,1.118060948492095,0.6133806592421909,-0.5900877228152724,0.8851315842229084,0.8851315842229084,1.234525630626688,0.4192728556845355,1.622741237741999,1.622741237741999,0.3804512949730044,0.186343491415349,0.3416297342614733,0.3416297342614733,0.1475219307038179,0.186343491415349,-0.357158358546086,0.0698788092807558,-0.0465858728538374,0.186343491415349,-0.1630505549884306,0.2251650521268801],\"z\":[-1.7389991930659483,-1.7389991930659483,-1.5481520472070869,-1.5099826180353142,-1.3954743305199973,-1.3954743305199973,-1.3573049013482248,-1.2427966138329078,-1.2427966138329078,-1.051949467974046,-0.8611023221151843,-0.7084246054280949,-0.5557468887410054,-0.4794080303974607,-0.4794080303974607,-0.2503914553668266,-0.2503914553668266,-0.0595443095079648,-0.0213748803361925,0.0167945488355798,0.0549639780073521,0.1313028363508969,0.2458111238662139]},{\"hovertemplate\":\"predictions k =6=%{marker.color}<br>Age=%{x}<br>spending_score=%{y}<br>annual_income=%{z}<extra></extra>\",\"legendgroup\":\"1\",\"marker\":{\"color\":[1,1,1,1,1,1,1,1,1,1,1,1,1,1,1,1,1,1,1,1,1,1,1,1,1,1,1,1,1,1,1,1,1,1,1,1,1],\"coloraxis\":\"coloraxis\",\"symbol\":\"diamond\"},\"mode\":\"markers\",\"name\":\"1\",\"scene\":\"scene\",\"showlegend\":true,\"type\":\"scatter3d\",\"x\":[-1.3528021003769686,-1.1375020313514563,-0.5633685139500905,-1.209268721026627,-1.1375020313514563,-0.6351352036252612,-0.2763017552494075,-1.0657353416762856,-0.2763017552494075,-0.2763017552494075,-1.1375020313514563,-1.2810354107017978,-1.2810354107017978,-0.6351352036252612,-1.3528021003769686,-0.5633685139500905,-1.0657353416762856,-0.8504352726507735,-0.706901893300432,-0.5633685139500905,-0.5633685139500905,-0.8504352726507735,-0.4916018242749196,-1.1375020313514563,-1.2810354107017978,-1.209268721026627,-0.3480684449245782,-0.4916018242749196,-0.8504352726507735,-1.1375020313514563,-1.2810354107017978,-1.424568790052139,-1.49633547972731,-1.424568790052139,-1.1375020313514563,-0.9939686520011148,-0.7786685829756027],\"y\":[-1.7159129834496736,1.0404178270690327,-0.3959799192576171,1.0015962663575015,1.700384359165061,0.8463100235113773,1.8944921627227165,1.0404178270690327,-0.5900877228152724,1.8556706020111853,1.4286334341843434,0.8851315842229084,1.195704069915157,0.8851315842229084,0.9627747056459706,0.4192728556845355,0.5745590985306598,-0.1242289942768995,-0.3183367978345549,-0.3183367978345549,0.1475219307038179,0.0310572485692247,-0.1242289942768995,0.0698788092807558,0.2639866128384112,0.186343491415349,0.3804512949730044,-0.3183367978345549,-0.0077643121423063,-0.357158358546086,-0.3183367978345549,0.1475219307038179,-0.0854074335653684,-0.0077643121423063,-0.823017087084459,-0.6289092835268035,-0.3959799192576171],\"z\":[-1.700829763894176,-1.700829763894176,-1.6626603347224038,-1.6626603347224038,-1.6244909055506314,-1.5863214763788591,-1.5863214763788591,-1.5481520472070869,-1.5099826180353142,-1.4336437596917695,-1.2046271846611354,-1.1664577554893631,-1.051949467974046,-1.0137800388022735,-0.8992717512869567,-0.822932892943412,-0.822932892943412,-0.7847634637716396,-0.7847634637716396,-0.7847634637716396,-0.6702551762563226,-0.5557468887410054,-0.4794080303974607,-0.2503914553668266,-0.2503914553668266,-0.1358831678515095,-0.0977137386797372,-0.0213748803361925,-0.0213748803361925,0.0549639780073521,0.0549639780073521,0.0931334071791245,0.1694722655226692,0.1694722655226692,0.360319411381531,0.4366582697250757,0.5893359864121651]},{\"hovertemplate\":\"predictions k =6=%{marker.color}<br>Age=%{x}<br>spending_score=%{y}<br>annual_income=%{z}<extra></extra>\",\"legendgroup\":\"2\",\"marker\":{\"color\":[2,2,2,2,2,2,2,2,2,2,2,2,2,2,2,2,2,2,2,2,2,2,2,2,2,2,2,2,2,2,2,2,2,2,2,2,2,2,2,2,2,2,2,2],\"coloraxis\":\"coloraxis\",\"symbol\":\"square\"},\"mode\":\"markers\",\"name\":\"2\",\"scene\":\"scene\",\"showlegend\":true,\"type\":\"scatter3d\",\"x\":[-0.2763017552494075,1.3743321072795196,0.5131318311774707,1.0872653485788366,0.4413651415022999,0.0825316931264462,0.728431900202983,0.2260650724767877,-0.2045350655742367,1.8766989350057148,0.728431900202983,0.8001985898781537,0.728431900202983,0.8001985898781537,0.8719652795533244,2.0202323143560563,1.0872653485788366,0.2978317621519585,2.091999004031227,0.5848985208526415,1.517865486629861,1.517865486629861,0.4413651415022999,0.728431900202983,0.5131318311774707,1.1590320382540074,0.8001985898781537,2.091999004031227,0.0825316931264462,0.5848985208526415,0.728431900202983,1.9484656246808856,-0.0610016862238952,1.7331655556553731,0.728431900202983,0.8719652795533244,0.8001985898781537,-0.0610016862238952,0.0825316931264462,0.3695984518271292,1.3025654176043489,0.3695984518271292,0.5848985208526415,1.230798727929178],\"y\":[-1.7159129834496736,-1.366518937045894,-1.7547345441612048,-1.405340497757425,-0.7065524049498657,-0.7453739656613968,-1.405340497757425,-1.288875815622832,-0.939481769219052,-0.5900877228152724,-0.86183864779599,0.186343491415349,0.0698788092807558,-0.2018721156999617,-0.0077643121423063,0.0698788092807558,0.3416297342614733,-0.0077643121423063,-0.0854074335653684,-0.3183367978345549,-0.0465858728538374,0.2251650521268801,0.1087003699922869,-0.3183367978345549,-0.2406936764114927,0.3028081735499422,-0.1630505549884306,0.186343491415349,-0.3959799192576171,-0.1242289942768995,-0.0854074335653684,-0.0077643121423063,-0.3183367978345549,-0.2795152371230238,0.3416297342614733,-0.2795152371230238,0.2639866128384112,-0.3959799192576171,0.3028081735499422,-1.6770914227381426,-1.7547345441612048,-1.1724111334882386,-1.327697376334363,-0.5900877228152724],\"z\":[-1.6244909055506314,-1.5481520472070869,-1.3573049013482248,-1.2427966138329078,-1.2427966138329078,-1.2046271846611354,-1.051949467974046,-1.0137800388022735,-0.8992717512869567,-0.8611023221151843,-0.822932892943412,-0.7847634637716396,-0.7084246054280949,-0.6702551762563226,-0.6320857470845501,-0.5175774595692331,-0.5175774595692331,-0.4794080303974607,-0.4794080303974607,-0.4412386012256884,-0.403069172053916,-0.403069172053916,-0.2503914553668266,-0.2503914553668266,-0.2503914553668266,-0.1358831678515095,-0.0977137386797372,-0.0595443095079648,-0.0213748803361925,-0.0213748803361925,0.0549639780073521,0.0931334071791245,0.1313028363508969,0.1694722655226692,0.1694722655226692,0.2458111238662139,0.2458111238662139,0.2458111238662139,0.3221499822097586,0.474827698896848,0.5511665572403928,0.6656748447557098,0.6656748447557098,0.7038442739274822]},{\"hovertemplate\":\"predictions k =6=%{marker.color}<br>Age=%{x}<br>spending_score=%{y}<br>annual_income=%{z}<extra></extra>\",\"legendgroup\":\"4\",\"marker\":{\"color\":[4,4,4,4,4,4,4,4,4,4,4,4,4,4,4,4,4,4,4,4,4,4,4,4,4,4,4,4],\"coloraxis\":\"coloraxis\",\"symbol\":\"x\"},\"mode\":\"markers\",\"name\":\"4\",\"scene\":\"scene\",\"showlegend\":true,\"type\":\"scatter3d\",\"x\":[1.804932245330544,2.0202323143560563,-0.1327683758990659,0.9437319692284952,1.517865486629861,1.015498658903666,0.6566652105278122,1.4460987969546903,0.5848985208526415,2.163765693706398,1.015498658903666,2.2355323833815683,1.7331655556553731,2.2355323833815683,1.4460987969546903,0.0825316931264462,1.3025654176043489,2.0202323143560563,0.6566652105278122,0.6566652105278122,0.6566652105278122,2.0202323143560563,0.728431900202983,1.0872653485788366,2.091999004031227,1.9484656246808856,1.8766989350057148,1.4460987969546903],\"y\":[-1.832377665584267,-1.405340497757425,-1.444162058468956,-0.823017087084459,-1.7935561048727358,-1.7935561048727358,-0.5512661621037414,0.3804512949730044,-0.357158358546086,-0.1630505549884306,-0.1630505549884306,0.2251650521268801,0.0310572485692247,0.186343491415349,-0.1242289942768995,-0.0854074335653684,0.0310572485692247,-0.357158358546086,-0.1630505549884306,-0.0465858728538374,-0.3183367978345549,0.3416297342614733,0.2251650521268801,-0.1630505549884306,-0.2795152371230238,-0.0854074335653684,0.0698788092807558,-1.5218051798920182],\"z\":[-1.5863214763788591,-1.5863214763788591,-1.5481520472070869,-1.4336437596917695,-1.1664577554893631,-1.051949467974046,-0.822932892943412,-0.6702551762563226,-0.6702551762563226,-0.6320857470845501,-0.5557468887410054,-0.5557468887410054,-0.4794080303974607,-0.4412386012256884,-0.2503914553668266,-0.2503914553668266,-0.2503914553668266,-0.2503914553668266,-0.2503914553668266,-0.0213748803361925,0.0167945488355798,0.0549639780073521,0.0549639780073521,0.0931334071791245,0.0931334071791245,0.0931334071791245,0.0931334071791245,0.3984888405533033]},{\"hovertemplate\":\"predictions k =6=%{marker.color}<br>Age=%{x}<br>spending_score=%{y}<br>annual_income=%{z}<extra></extra>\",\"legendgroup\":\"5\",\"marker\":{\"color\":[5,5,5,5,5,5,5,5,5,5,5,5,5,5,5,5,5,5,5,5,5,5,5,5,5,5,5,5,5,5,5,5,5,5,5,5,5,5,5],\"coloraxis\":\"coloraxis\",\"symbol\":\"cross\"},\"mode\":\"markers\",\"name\":\"5\",\"scene\":\"scene\",\"showlegend\":true,\"type\":\"scatter3d\",\"x\":[0.0107650034512755,-0.5633685139500905,0.0825316931264462,-0.0610016862238952,0.0107650034512755,-0.5633685139500905,-0.706901893300432,-0.4916018242749196,-0.2763017552494075,-0.4916018242749196,-0.4916018242749196,-0.7786685829756027,-0.4916018242749196,-0.3480684449245782,0.0107650034512755,-0.0610016862238952,-0.8504352726507735,-0.6351352036252612,-0.6351352036252612,-0.706901893300432,-0.5633685139500905,-0.2045350655742367,-0.4198351345997489,-0.4916018242749196,-0.7786685829756027,-0.2045350655742367,-0.6351352036252612,-0.8504352726507735,-0.2763017552494075,-0.4916018242749196,-0.706901893300432,-0.6351352036252612,-0.7786685829756027,-0.2045350655742367,-0.4916018242749196,-0.0610016862238952,-0.2763017552494075,-0.4916018242749196,-0.6351352036252612],\"y\":[1.5839196770304678,1.0404178270690327,1.739205919876592,0.9627747056459706,0.9627747056459706,0.8074884627998463,1.4674549948958746,0.8851315842229084,0.8463100235113773,1.66156279845353,1.4286334341843434,1.8168490412996543,0.9239531449344396,1.5450981163189368,1.4674549948958746,1.0015962663575015,1.5062765556074056,1.0792393877805635,0.8851315842229084,1.2733471913382193,1.66156279845353,0.9627747056459706,1.739205919876592,0.4969159771075976,0.9627747056459706,1.622741237741999,1.3898118734728124,0.7298453413767841,1.5450981163189368,1.3898118734728124,1.4674549948958746,1.8168490412996543,0.691023780665253,1.3509903127612812,0.7298453413767841,1.5839196770304678,1.118060948492095,0.9239531449344396,1.2733471913382193],\"z\":[0.3221499822097586,0.360319411381531,0.3984888405533033,0.3984888405533033,0.3984888405533033,0.4366582697250757,0.474827698896848,0.474827698896848,0.5129971280686204,0.5511665572403928,0.5893359864121651,0.6275054155839375,0.6275054155839375,0.6656748447557098,0.6656748447557098,0.6656748447557098,0.6656748447557098,0.6656748447557098,0.6656748447557098,0.7038442739274822,0.7801831322710269,0.9328608489581164,0.9710302781298886,1.009199707301661,1.009199707301661,1.009199707301661,1.0473691364734334,1.0473691364734334,1.238216282332295,1.3908939990193845,1.429063428191157,1.4672328573629292,1.543571715706474,1.6199105740500186,1.6199105740500186,2.0016048657677423,2.268790869970149,2.4978074450007828,2.9176711658902788]},{\"hovertemplate\":\"predictions k =6=%{marker.color}<br>Age=%{x}<br>spending_score=%{y}<br>annual_income=%{z}<extra></extra>\",\"legendgroup\":\"0\",\"marker\":{\"color\":[0,0,0,0,0,0,0,0,0,0,0,0,0,0,0,0,0,0,0,0,0,0,0,0,0,0,0,0,0],\"coloraxis\":\"coloraxis\",\"symbol\":\"circle\"},\"mode\":\"markers\",\"name\":\"0\",\"scene\":\"scene\",\"showlegend\":true,\"type\":\"scatter3d\",\"x\":[0.2978317621519585,0.5848985208526415,-1.3528021003769686,-1.424568790052139,-0.9939686520011148,0.6566652105278122,-0.3480684449245782,0.2978317621519585,-0.1327683758990659,-0.3480684449245782,-1.424568790052139,0.8001985898781537,0.2260650724767877,-0.2045350655742367,0.0825316931264462,-0.2045350655742367,0.9437319692284952,1.3743321072795196,1.4460987969546903,-0.1327683758990659,0.5131318311774707,0.154298382801617,1.0872653485788366,0.154298382801617,-0.3480684449245782,-0.4198351345997489,0.5848985208526415,0.4413651415022999,-0.4916018242749196],\"y\":[-0.5900877228152724,-1.5994483013150804,-1.7547345441612048,-1.5606267406035494,-1.4829836191804873,-0.5512661621037414,-1.0947680120651764,-1.288875815622832,-1.9100207870073287,-1.9100207870073287,-1.7547345441612048,-0.939481769219052,-1.1724111334882386,-0.900660208507521,-1.444162058468956,-1.5606267406035494,-1.444162058468956,-1.366518937045894,-1.405340497757425,-0.7065524049498657,-1.366518937045894,-0.4348014799691481,-1.0171248906421142,-1.288875815622832,-1.0559464513536454,-1.6382698620266116,-1.327697376334363,-0.86183864779599,-1.2500542549113007],\"z\":[0.3984888405533033,0.3984888405533033,0.474827698896848,0.5129971280686204,0.6275054155839375,0.6275054155839375,0.6656748447557098,0.6656748447557098,0.6656748447557098,0.6656748447557098,0.7801831322710269,0.9328608489581164,0.9710302781298886,1.009199707301661,1.009199707301661,1.009199707301661,1.0473691364734334,1.0473691364734334,1.238216282332295,1.3908939990193845,1.429063428191157,1.4672328573629292,1.543571715706474,1.6199105740500186,1.6199105740500186,2.0016048657677423,2.268790869970149,2.4978074450007828,2.9176711658902788]}],                        {\"coloraxis\":{\"colorbar\":{\"title\":{\"text\":\"predictions k =6\"}},\"colorscale\":[[0.0,\"#0d0887\"],[0.1111111111111111,\"#46039f\"],[0.2222222222222222,\"#7201a8\"],[0.3333333333333333,\"#9c179e\"],[0.4444444444444444,\"#bd3786\"],[0.5555555555555556,\"#d8576b\"],[0.6666666666666666,\"#ed7953\"],[0.7777777777777778,\"#fb9f3a\"],[0.8888888888888888,\"#fdca26\"],[1.0,\"#f0f921\"]]},\"legend\":{\"title\":{\"text\":\"predictions k =6\"},\"tracegroupgap\":0,\"x\":0,\"y\":1},\"margin\":{\"t\":60},\"scene\":{\"domain\":{\"x\":[0.0,1.0],\"y\":[0.0,1.0]},\"xaxis\":{\"title\":{\"text\":\"Age\"}},\"yaxis\":{\"title\":{\"text\":\"spending_score\"}},\"zaxis\":{\"title\":{\"text\":\"annual_income\"}}},\"template\":{\"data\":{\"bar\":[{\"error_x\":{\"color\":\"#2a3f5f\"},\"error_y\":{\"color\":\"#2a3f5f\"},\"marker\":{\"line\":{\"color\":\"#E5ECF6\",\"width\":0.5},\"pattern\":{\"fillmode\":\"overlay\",\"size\":10,\"solidity\":0.2}},\"type\":\"bar\"}],\"barpolar\":[{\"marker\":{\"line\":{\"color\":\"#E5ECF6\",\"width\":0.5},\"pattern\":{\"fillmode\":\"overlay\",\"size\":10,\"solidity\":0.2}},\"type\":\"barpolar\"}],\"carpet\":[{\"aaxis\":{\"endlinecolor\":\"#2a3f5f\",\"gridcolor\":\"white\",\"linecolor\":\"white\",\"minorgridcolor\":\"white\",\"startlinecolor\":\"#2a3f5f\"},\"baxis\":{\"endlinecolor\":\"#2a3f5f\",\"gridcolor\":\"white\",\"linecolor\":\"white\",\"minorgridcolor\":\"white\",\"startlinecolor\":\"#2a3f5f\"},\"type\":\"carpet\"}],\"choropleth\":[{\"colorbar\":{\"outlinewidth\":0,\"ticks\":\"\"},\"type\":\"choropleth\"}],\"contour\":[{\"colorbar\":{\"outlinewidth\":0,\"ticks\":\"\"},\"colorscale\":[[0.0,\"#0d0887\"],[0.1111111111111111,\"#46039f\"],[0.2222222222222222,\"#7201a8\"],[0.3333333333333333,\"#9c179e\"],[0.4444444444444444,\"#bd3786\"],[0.5555555555555556,\"#d8576b\"],[0.6666666666666666,\"#ed7953\"],[0.7777777777777778,\"#fb9f3a\"],[0.8888888888888888,\"#fdca26\"],[1.0,\"#f0f921\"]],\"type\":\"contour\"}],\"contourcarpet\":[{\"colorbar\":{\"outlinewidth\":0,\"ticks\":\"\"},\"type\":\"contourcarpet\"}],\"heatmap\":[{\"colorbar\":{\"outlinewidth\":0,\"ticks\":\"\"},\"colorscale\":[[0.0,\"#0d0887\"],[0.1111111111111111,\"#46039f\"],[0.2222222222222222,\"#7201a8\"],[0.3333333333333333,\"#9c179e\"],[0.4444444444444444,\"#bd3786\"],[0.5555555555555556,\"#d8576b\"],[0.6666666666666666,\"#ed7953\"],[0.7777777777777778,\"#fb9f3a\"],[0.8888888888888888,\"#fdca26\"],[1.0,\"#f0f921\"]],\"type\":\"heatmap\"}],\"heatmapgl\":[{\"colorbar\":{\"outlinewidth\":0,\"ticks\":\"\"},\"colorscale\":[[0.0,\"#0d0887\"],[0.1111111111111111,\"#46039f\"],[0.2222222222222222,\"#7201a8\"],[0.3333333333333333,\"#9c179e\"],[0.4444444444444444,\"#bd3786\"],[0.5555555555555556,\"#d8576b\"],[0.6666666666666666,\"#ed7953\"],[0.7777777777777778,\"#fb9f3a\"],[0.8888888888888888,\"#fdca26\"],[1.0,\"#f0f921\"]],\"type\":\"heatmapgl\"}],\"histogram\":[{\"marker\":{\"pattern\":{\"fillmode\":\"overlay\",\"size\":10,\"solidity\":0.2}},\"type\":\"histogram\"}],\"histogram2d\":[{\"colorbar\":{\"outlinewidth\":0,\"ticks\":\"\"},\"colorscale\":[[0.0,\"#0d0887\"],[0.1111111111111111,\"#46039f\"],[0.2222222222222222,\"#7201a8\"],[0.3333333333333333,\"#9c179e\"],[0.4444444444444444,\"#bd3786\"],[0.5555555555555556,\"#d8576b\"],[0.6666666666666666,\"#ed7953\"],[0.7777777777777778,\"#fb9f3a\"],[0.8888888888888888,\"#fdca26\"],[1.0,\"#f0f921\"]],\"type\":\"histogram2d\"}],\"histogram2dcontour\":[{\"colorbar\":{\"outlinewidth\":0,\"ticks\":\"\"},\"colorscale\":[[0.0,\"#0d0887\"],[0.1111111111111111,\"#46039f\"],[0.2222222222222222,\"#7201a8\"],[0.3333333333333333,\"#9c179e\"],[0.4444444444444444,\"#bd3786\"],[0.5555555555555556,\"#d8576b\"],[0.6666666666666666,\"#ed7953\"],[0.7777777777777778,\"#fb9f3a\"],[0.8888888888888888,\"#fdca26\"],[1.0,\"#f0f921\"]],\"type\":\"histogram2dcontour\"}],\"mesh3d\":[{\"colorbar\":{\"outlinewidth\":0,\"ticks\":\"\"},\"type\":\"mesh3d\"}],\"parcoords\":[{\"line\":{\"colorbar\":{\"outlinewidth\":0,\"ticks\":\"\"}},\"type\":\"parcoords\"}],\"pie\":[{\"automargin\":true,\"type\":\"pie\"}],\"scatter\":[{\"marker\":{\"colorbar\":{\"outlinewidth\":0,\"ticks\":\"\"}},\"type\":\"scatter\"}],\"scatter3d\":[{\"line\":{\"colorbar\":{\"outlinewidth\":0,\"ticks\":\"\"}},\"marker\":{\"colorbar\":{\"outlinewidth\":0,\"ticks\":\"\"}},\"type\":\"scatter3d\"}],\"scattercarpet\":[{\"marker\":{\"colorbar\":{\"outlinewidth\":0,\"ticks\":\"\"}},\"type\":\"scattercarpet\"}],\"scattergeo\":[{\"marker\":{\"colorbar\":{\"outlinewidth\":0,\"ticks\":\"\"}},\"type\":\"scattergeo\"}],\"scattergl\":[{\"marker\":{\"colorbar\":{\"outlinewidth\":0,\"ticks\":\"\"}},\"type\":\"scattergl\"}],\"scattermapbox\":[{\"marker\":{\"colorbar\":{\"outlinewidth\":0,\"ticks\":\"\"}},\"type\":\"scattermapbox\"}],\"scatterpolar\":[{\"marker\":{\"colorbar\":{\"outlinewidth\":0,\"ticks\":\"\"}},\"type\":\"scatterpolar\"}],\"scatterpolargl\":[{\"marker\":{\"colorbar\":{\"outlinewidth\":0,\"ticks\":\"\"}},\"type\":\"scatterpolargl\"}],\"scatterternary\":[{\"marker\":{\"colorbar\":{\"outlinewidth\":0,\"ticks\":\"\"}},\"type\":\"scatterternary\"}],\"surface\":[{\"colorbar\":{\"outlinewidth\":0,\"ticks\":\"\"},\"colorscale\":[[0.0,\"#0d0887\"],[0.1111111111111111,\"#46039f\"],[0.2222222222222222,\"#7201a8\"],[0.3333333333333333,\"#9c179e\"],[0.4444444444444444,\"#bd3786\"],[0.5555555555555556,\"#d8576b\"],[0.6666666666666666,\"#ed7953\"],[0.7777777777777778,\"#fb9f3a\"],[0.8888888888888888,\"#fdca26\"],[1.0,\"#f0f921\"]],\"type\":\"surface\"}],\"table\":[{\"cells\":{\"fill\":{\"color\":\"#EBF0F8\"},\"line\":{\"color\":\"white\"}},\"header\":{\"fill\":{\"color\":\"#C8D4E3\"},\"line\":{\"color\":\"white\"}},\"type\":\"table\"}]},\"layout\":{\"annotationdefaults\":{\"arrowcolor\":\"#2a3f5f\",\"arrowhead\":0,\"arrowwidth\":1},\"autotypenumbers\":\"strict\",\"coloraxis\":{\"colorbar\":{\"outlinewidth\":0,\"ticks\":\"\"}},\"colorscale\":{\"diverging\":[[0,\"#8e0152\"],[0.1,\"#c51b7d\"],[0.2,\"#de77ae\"],[0.3,\"#f1b6da\"],[0.4,\"#fde0ef\"],[0.5,\"#f7f7f7\"],[0.6,\"#e6f5d0\"],[0.7,\"#b8e186\"],[0.8,\"#7fbc41\"],[0.9,\"#4d9221\"],[1,\"#276419\"]],\"sequential\":[[0.0,\"#0d0887\"],[0.1111111111111111,\"#46039f\"],[0.2222222222222222,\"#7201a8\"],[0.3333333333333333,\"#9c179e\"],[0.4444444444444444,\"#bd3786\"],[0.5555555555555556,\"#d8576b\"],[0.6666666666666666,\"#ed7953\"],[0.7777777777777778,\"#fb9f3a\"],[0.8888888888888888,\"#fdca26\"],[1.0,\"#f0f921\"]],\"sequentialminus\":[[0.0,\"#0d0887\"],[0.1111111111111111,\"#46039f\"],[0.2222222222222222,\"#7201a8\"],[0.3333333333333333,\"#9c179e\"],[0.4444444444444444,\"#bd3786\"],[0.5555555555555556,\"#d8576b\"],[0.6666666666666666,\"#ed7953\"],[0.7777777777777778,\"#fb9f3a\"],[0.8888888888888888,\"#fdca26\"],[1.0,\"#f0f921\"]]},\"colorway\":[\"#636efa\",\"#EF553B\",\"#00cc96\",\"#ab63fa\",\"#FFA15A\",\"#19d3f3\",\"#FF6692\",\"#B6E880\",\"#FF97FF\",\"#FECB52\"],\"font\":{\"color\":\"#2a3f5f\"},\"geo\":{\"bgcolor\":\"white\",\"lakecolor\":\"white\",\"landcolor\":\"#E5ECF6\",\"showlakes\":true,\"showland\":true,\"subunitcolor\":\"white\"},\"hoverlabel\":{\"align\":\"left\"},\"hovermode\":\"closest\",\"mapbox\":{\"style\":\"light\"},\"paper_bgcolor\":\"white\",\"plot_bgcolor\":\"#E5ECF6\",\"polar\":{\"angularaxis\":{\"gridcolor\":\"white\",\"linecolor\":\"white\",\"ticks\":\"\"},\"bgcolor\":\"#E5ECF6\",\"radialaxis\":{\"gridcolor\":\"white\",\"linecolor\":\"white\",\"ticks\":\"\"}},\"scene\":{\"xaxis\":{\"backgroundcolor\":\"#E5ECF6\",\"gridcolor\":\"white\",\"gridwidth\":2,\"linecolor\":\"white\",\"showbackground\":true,\"ticks\":\"\",\"zerolinecolor\":\"white\"},\"yaxis\":{\"backgroundcolor\":\"#E5ECF6\",\"gridcolor\":\"white\",\"gridwidth\":2,\"linecolor\":\"white\",\"showbackground\":true,\"ticks\":\"\",\"zerolinecolor\":\"white\"},\"zaxis\":{\"backgroundcolor\":\"#E5ECF6\",\"gridcolor\":\"white\",\"gridwidth\":2,\"linecolor\":\"white\",\"showbackground\":true,\"ticks\":\"\",\"zerolinecolor\":\"white\"}},\"shapedefaults\":{\"line\":{\"color\":\"#2a3f5f\"}},\"ternary\":{\"aaxis\":{\"gridcolor\":\"white\",\"linecolor\":\"white\",\"ticks\":\"\"},\"baxis\":{\"gridcolor\":\"white\",\"linecolor\":\"white\",\"ticks\":\"\"},\"bgcolor\":\"#E5ECF6\",\"caxis\":{\"gridcolor\":\"white\",\"linecolor\":\"white\",\"ticks\":\"\"}},\"title\":{\"x\":0.05},\"xaxis\":{\"automargin\":true,\"gridcolor\":\"white\",\"linecolor\":\"white\",\"ticks\":\"\",\"title\":{\"standoff\":15},\"zerolinecolor\":\"white\",\"zerolinewidth\":2},\"yaxis\":{\"automargin\":true,\"gridcolor\":\"white\",\"linecolor\":\"white\",\"ticks\":\"\",\"title\":{\"standoff\":15},\"zerolinecolor\":\"white\",\"zerolinewidth\":2}}},\"width\":800},                        {\"responsive\": true}                    ).then(function(){\n",
       "                            \n",
       "var gd = document.getElementById('bd68f245-2a93-4ef8-9b51-b8bafaa82715');\n",
       "var x = new MutationObserver(function (mutations, observer) {{\n",
       "        var display = window.getComputedStyle(gd).display;\n",
       "        if (!display || display === 'none') {{\n",
       "            console.log([gd, 'removed!']);\n",
       "            Plotly.purge(gd);\n",
       "            observer.disconnect();\n",
       "        }}\n",
       "}});\n",
       "\n",
       "// Listen for the removal of the full notebook cells\n",
       "var notebookContainer = gd.closest('#notebook-container');\n",
       "if (notebookContainer) {{\n",
       "    x.observe(notebookContainer, {childList: true});\n",
       "}}\n",
       "\n",
       "// Listen for the clearing of the current output cell\n",
       "var outputEl = gd.closest('.output');\n",
       "if (outputEl) {{\n",
       "    x.observe(outputEl, {childList: true});\n",
       "}}\n",
       "\n",
       "                        })                };                });            </script>        </div>"
      ]
     },
     "metadata": {},
     "output_type": "display_data"
    }
   ],
   "source": [
    "fig = px.scatter_3d(shopper_df, x='Age', y='spending_score',z='annual_income', color = 'predictions k =6', \n",
    "                    symbol = 'predictions k =6', width = 800)\n",
    "fig.update_layout(legend=dict(x=0, y=1))\n",
    "fig.show()"
   ]
  },
  {
   "cell_type": "code",
   "execution_count": null,
   "id": "962a16b9",
   "metadata": {},
   "outputs": [],
   "source": []
  }
 ],
 "metadata": {
  "kernelspec": {
   "display_name": "mlenv",
   "language": "python",
   "name": "mlenv"
  },
  "language_info": {
   "codemirror_mode": {
    "name": "ipython",
    "version": 3
   },
   "file_extension": ".py",
   "mimetype": "text/x-python",
   "name": "python",
   "nbconvert_exporter": "python",
   "pygments_lexer": "ipython3",
   "version": "3.7.10"
  }
 },
 "nbformat": 4,
 "nbformat_minor": 5
}
